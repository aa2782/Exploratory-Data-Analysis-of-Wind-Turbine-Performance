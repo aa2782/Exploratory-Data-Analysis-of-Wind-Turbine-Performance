
  {
   "cell_type": "markdown",
   "id": "8f48e012",
   "metadata": {},
   "source": [
    "Part I - Basic Data Exploration "
   ]
  },
  {
   "cell_type": "code",
   "execution_count": 2,
   "id": "3ecba915",
   "metadata": {},
   "outputs": [],
   "source": [
    "# python libraries\n",
    "import pandas as pd\n",
    "import numpy as np\n",
    "import matplotlib.pyplot as plt\n"
   ]
  },
  {
   "cell_type": "code",
   "execution_count": 4,
   "id": "bca97ae0",
   "metadata": {},
   "outputs": [
    {
     "data": {
      "text/html": [
       "<div>\n",
       "<style scoped>\n",
       "    .dataframe tbody tr th:only-of-type {\n",
       "        vertical-align: middle;\n",
       "    }\n",
       "\n",
       "    .dataframe tbody tr th {\n",
       "        vertical-align: top;\n",
       "    }\n",
       "\n",
       "    .dataframe thead th {\n",
       "        text-align: right;\n",
       "    }\n",
       "</style>\n",
       "<table border=\"1\" class=\"dataframe\">\n",
       "  <thead>\n",
       "    <tr style=\"text-align: right;\">\n",
       "      <th></th>\n",
       "      <th>Observation Number</th>\n",
       "      <th>Date/Time</th>\n",
       "      <th>LV ActivePower (kW)</th>\n",
       "      <th>Wind Speed (m/s)</th>\n",
       "      <th>Theoretical_Power_Curve (KWh)</th>\n",
       "      <th>Wind Direction (°)</th>\n",
       "    </tr>\n",
       "  </thead>\n",
       "  <tbody>\n",
       "    <tr>\n",
       "      <th>0</th>\n",
       "      <td>1</td>\n",
       "      <td>01 01 2018 00:00</td>\n",
       "      <td>380.047791</td>\n",
       "      <td>5.311336</td>\n",
       "      <td>416.328908</td>\n",
       "      <td>259.994904</td>\n",
       "    </tr>\n",
       "    <tr>\n",
       "      <th>1</th>\n",
       "      <td>2</td>\n",
       "      <td>01 01 2018 00:10</td>\n",
       "      <td>453.769196</td>\n",
       "      <td>5.672167</td>\n",
       "      <td>519.917511</td>\n",
       "      <td>268.641113</td>\n",
       "    </tr>\n",
       "    <tr>\n",
       "      <th>2</th>\n",
       "      <td>3</td>\n",
       "      <td>01 01 2018 00:20</td>\n",
       "      <td>306.376587</td>\n",
       "      <td>5.216037</td>\n",
       "      <td>390.900016</td>\n",
       "      <td>272.564789</td>\n",
       "    </tr>\n",
       "    <tr>\n",
       "      <th>3</th>\n",
       "      <td>4</td>\n",
       "      <td>01 01 2018 00:30</td>\n",
       "      <td>419.645904</td>\n",
       "      <td>5.659674</td>\n",
       "      <td>516.127569</td>\n",
       "      <td>271.258087</td>\n",
       "    </tr>\n",
       "    <tr>\n",
       "      <th>4</th>\n",
       "      <td>5</td>\n",
       "      <td>01 01 2018 00:40</td>\n",
       "      <td>380.650696</td>\n",
       "      <td>5.577941</td>\n",
       "      <td>491.702972</td>\n",
       "      <td>265.674286</td>\n",
       "    </tr>\n",
       "  </tbody>\n",
       "</table>\n",
       "</div>"
      ],
      "text/plain": [
       "   Observation Number         Date/Time  LV ActivePower (kW)  \\\n",
       "0                   1  01 01 2018 00:00           380.047791   \n",
       "1                   2  01 01 2018 00:10           453.769196   \n",
       "2                   3  01 01 2018 00:20           306.376587   \n",
       "3                   4  01 01 2018 00:30           419.645904   \n",
       "4                   5  01 01 2018 00:40           380.650696   \n",
       "\n",
       "   Wind Speed (m/s)  Theoretical_Power_Curve (KWh)  Wind Direction (°)  \n",
       "0          5.311336                     416.328908          259.994904  \n",
       "1          5.672167                     519.917511          268.641113  \n",
       "2          5.216037                     390.900016          272.564789  \n",
       "3          5.659674                     516.127569          271.258087  \n",
       "4          5.577941                     491.702972          265.674286  "
      ]
     },
     "execution_count": 4,
     "metadata": {},
     "output_type": "execute_result"
    }
   ],
   "source": [
    "#Importing data into python \n",
    "data = pd.read_csv(r'D:\\Downloads\\turbines.csv')\n",
    "data.head()"
   ]
  },
  {
   "cell_type": "code",
   "execution_count": 41,
   "id": "dca2fb86",
   "metadata": {},
   "outputs": [
    {
     "data": {
      "text/plain": [
       "(50530, 6)"
      ]
     },
     "execution_count": 41,
     "metadata": {},
     "output_type": "execute_result"
    }
   ],
   "source": [
    "data.shape"
   ]
  },
  {
   "cell_type": "markdown",
   "id": "bfb03977",
   "metadata": {},
   "source": [
    "There are 50530 data points in each of 4 different variables, aside from the observation number and Date/Time. "
   ]
  },
  {
   "cell_type": "markdown",
   "id": "912c3805",
   "metadata": {},
   "source": [
    "I calculated max, min, mean, median, and standard deviation of one variable: LV ActivePower (KW).\n",
    "Rest of the variable's properties were calculated below using 'describe' method. "
   ]
  },
  {
   "cell_type": "code",
   "execution_count": 42,
   "id": "d2603539",
   "metadata": {},
   "outputs": [
    {
     "data": {
      "text/plain": [
       "3618.73291"
      ]
     },
     "execution_count": 42,
     "metadata": {},
     "output_type": "execute_result"
    }
   ],
   "source": [
    "data['LV ActivePower (kW)'].max()"
   ]
  },
  {
   "cell_type": "code",
   "execution_count": 43,
   "id": "b8762727",
   "metadata": {},
   "outputs": [
    {
     "data": {
      "text/plain": [
       "-2.471405029"
      ]
     },
     "execution_count": 43,
     "metadata": {},
     "output_type": "execute_result"
    }
   ],
   "source": [
    "data['LV ActivePower (kW)'].min()"
   ]
  },
  {
   "cell_type": "code",
   "execution_count": 44,
   "id": "0c16b9c0",
   "metadata": {},
   "outputs": [
    {
     "data": {
      "text/plain": [
       "1307.6843318813828"
      ]
     },
     "execution_count": 44,
     "metadata": {},
     "output_type": "execute_result"
    }
   ],
   "source": [
    "data['LV ActivePower (kW)'].mean()"
   ]
  },
  {
   "cell_type": "code",
   "execution_count": 45,
   "id": "4637d024",
   "metadata": {},
   "outputs": [
    {
     "data": {
      "text/plain": [
       "825.83807375"
      ]
     },
     "execution_count": 45,
     "metadata": {},
     "output_type": "execute_result"
    }
   ],
   "source": [
    "data['LV ActivePower (kW)'].median()\n"
   ]
  },
  {
   "cell_type": "code",
   "execution_count": 46,
   "id": "eaeb163c",
   "metadata": {},
   "outputs": [
    {
     "data": {
      "text/plain": [
       "1312.4592421290968"
      ]
     },
     "execution_count": 46,
     "metadata": {},
     "output_type": "execute_result"
    }
   ],
   "source": [
    "data['LV ActivePower (kW)'].std()"
   ]
  },
  {
   "cell_type": "code",
   "execution_count": 47,
   "id": "a96a6b17",
   "metadata": {},
   "outputs": [
    {
     "data": {
      "text/html": [
       "<div>\n",
       "<style scoped>\n",
       "    .dataframe tbody tr th:only-of-type {\n",
       "        vertical-align: middle;\n",
       "    }\n",
       "\n",
       "    .dataframe tbody tr th {\n",
       "        vertical-align: top;\n",
       "    }\n",
       "\n",
       "    .dataframe thead th {\n",
       "        text-align: right;\n",
       "    }\n",
       "</style>\n",
       "<table border=\"1\" class=\"dataframe\">\n",
       "  <thead>\n",
       "    <tr style=\"text-align: right;\">\n",
       "      <th></th>\n",
       "      <th>LV ActivePower (kW)</th>\n",
       "      <th>Wind Speed (m/s)</th>\n",
       "      <th>Theoretical_Power_Curve (KWh)</th>\n",
       "      <th>Wind Direction (°)</th>\n",
       "    </tr>\n",
       "  </thead>\n",
       "  <tbody>\n",
       "    <tr>\n",
       "      <th>count</th>\n",
       "      <td>50530.000000</td>\n",
       "      <td>50530.000000</td>\n",
       "      <td>50530.000000</td>\n",
       "      <td>50530.000000</td>\n",
       "    </tr>\n",
       "    <tr>\n",
       "      <th>mean</th>\n",
       "      <td>1307.684332</td>\n",
       "      <td>7.557952</td>\n",
       "      <td>1492.175463</td>\n",
       "      <td>123.687559</td>\n",
       "    </tr>\n",
       "    <tr>\n",
       "      <th>std</th>\n",
       "      <td>1312.459242</td>\n",
       "      <td>4.227166</td>\n",
       "      <td>1368.018238</td>\n",
       "      <td>93.443736</td>\n",
       "    </tr>\n",
       "    <tr>\n",
       "      <th>min</th>\n",
       "      <td>-2.471405</td>\n",
       "      <td>0.000000</td>\n",
       "      <td>0.000000</td>\n",
       "      <td>0.000000</td>\n",
       "    </tr>\n",
       "    <tr>\n",
       "      <th>25%</th>\n",
       "      <td>50.677890</td>\n",
       "      <td>4.201395</td>\n",
       "      <td>161.328167</td>\n",
       "      <td>49.315437</td>\n",
       "    </tr>\n",
       "    <tr>\n",
       "      <th>50%</th>\n",
       "      <td>825.838074</td>\n",
       "      <td>7.104594</td>\n",
       "      <td>1063.776282</td>\n",
       "      <td>73.712978</td>\n",
       "    </tr>\n",
       "    <tr>\n",
       "      <th>75%</th>\n",
       "      <td>2482.507568</td>\n",
       "      <td>10.300020</td>\n",
       "      <td>2964.972462</td>\n",
       "      <td>201.696720</td>\n",
       "    </tr>\n",
       "    <tr>\n",
       "      <th>max</th>\n",
       "      <td>3618.732910</td>\n",
       "      <td>25.206011</td>\n",
       "      <td>3600.000000</td>\n",
       "      <td>359.997589</td>\n",
       "    </tr>\n",
       "  </tbody>\n",
       "</table>\n",
       "</div>"
      ],
      "text/plain": [
       "       LV ActivePower (kW)  Wind Speed (m/s)  Theoretical_Power_Curve (KWh)  \\\n",
       "count         50530.000000      50530.000000                   50530.000000   \n",
       "mean           1307.684332          7.557952                    1492.175463   \n",
       "std            1312.459242          4.227166                    1368.018238   \n",
       "min              -2.471405          0.000000                       0.000000   \n",
       "25%              50.677890          4.201395                     161.328167   \n",
       "50%             825.838074          7.104594                    1063.776282   \n",
       "75%            2482.507568         10.300020                    2964.972462   \n",
       "max            3618.732910         25.206011                    3600.000000   \n",
       "\n",
       "       Wind Direction (°)  \n",
       "count        50530.000000  \n",
       "mean           123.687559  \n",
       "std             93.443736  \n",
       "min              0.000000  \n",
       "25%             49.315437  \n",
       "50%             73.712978  \n",
       "75%            201.696720  \n",
       "max            359.997589  "
      ]
     },
     "execution_count": 47,
     "metadata": {},
     "output_type": "execute_result"
    }
   ],
   "source": [
    "new_data = data.iloc[:,2:6]\n",
    "new_data.describe()"
   ]
  },
  {
   "cell_type": "markdown",
   "id": "6bfb9872",
   "metadata": {},
   "source": [
    "Looking at the data above, 'Wind Speed(m/s)' has difference between mean and median less than 10%. Rest of the other variables have more than 10% difference between their mean and median. "
   ]
  },
  {
   "cell_type": "code",
   "execution_count": 32,
   "id": "eecf0d79",
   "metadata": {},
   "outputs": [
    {
     "data": {
      "text/plain": [
       "array([[<AxesSubplot:title={'center':'LV ActivePower (kW)'}>,\n",
       "        <AxesSubplot:title={'center':'Wind Speed (m/s)'}>],\n",
       "       [<AxesSubplot:title={'center':'Theoretical_Power_Curve (KWh)'}>,\n",
       "        <AxesSubplot:title={'center':'Wind Direction (°)'}>]],\n",
       "      dtype=object)"
      ]
     },
     "execution_count": 32,
     "metadata": {},
     "output_type": "execute_result"
    },
    {
     "data": {
      "image/png": "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\n",
      "text/plain": [
       "<Figure size 576x720 with 4 Axes>"
      ]
     },
     "metadata": {
      "needs_background": "light"
     },
     "output_type": "display_data"
    }
   ],
   "source": [
    "new_data.hist(figsize=(8,10),bins = 100)"
   ]
  },
  {
   "cell_type": "code",
   "execution_count": 33,
   "id": "7e9471b5",
   "metadata": {},
   "outputs": [
    {
     "data": {
      "text/plain": [
       "<AxesSubplot:>"
      ]
     },
     "execution_count": 33,
     "metadata": {},
     "output_type": "execute_result"
    },
    {
     "data": {
      "image/png": "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\n",
      "text/plain": [
       "<Figure size 432x288 with 1 Axes>"
      ]
     },
     "metadata": {
      "needs_background": "light"
     },
     "output_type": "display_data"
    }
   ],
   "source": [
    "data.boxplot(column = ['LV ActivePower (kW)'])"
   ]
  },
  {
   "cell_type": "code",
   "execution_count": 34,
   "id": "421c7ee6",
   "metadata": {},
   "outputs": [
    {
     "data": {
      "text/plain": [
       "<AxesSubplot:>"
      ]
     },
     "execution_count": 34,
     "metadata": {},
     "output_type": "execute_result"
    },
    {
     "data": {
      "image/png": "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\n",
      "text/plain": [
       "<Figure size 432x288 with 1 Axes>"
      ]
     },
     "metadata": {
      "needs_background": "light"
     },
     "output_type": "display_data"
    }
   ],
   "source": [
    "data.boxplot(column = ['Wind Speed (m/s)'])"
   ]
  },
  {
   "cell_type": "markdown",
   "id": "09e6894b",
   "metadata": {},
   "source": [
    "The boxplot of these two variables: Actual Power, and Wind Speed look quite as expected from the histogram plot. \n",
    "Wind speed's histogram seems to be skewed to the right with a lot of outliers, which we can see in the boxplot too. \n",
    "Similarly, actual power seems to be limited between 0 and 3500 with more datasets on the left. "
   ]
  },
  {
   "cell_type": "code",
   "execution_count": 48,
   "id": "04ef92f7",
   "metadata": {},
   "outputs": [],
   "source": [
    "def find_month(x):\n",
    "    if \" 01 \" in x:\n",
    "        return \"Jan\"\n",
    "    elif \" 02 \" in x:\n",
    "        return \"Feb\"\n",
    "    elif \" 03 \" in x:\n",
    "        return \"March\"    \n",
    "    elif \" 04 \" in x:\n",
    "        return \"April\"    \n",
    "    elif \" 05 \" in x:\n",
    "        return \"May\"    \n",
    "    elif \" 06 \" in x:\n",
    "        return \"June\"    \n",
    "    elif \" 07 \" in x:\n",
    "        return \"July\"    \n",
    "    elif \" 08 \" in x:\n",
    "        return \"August\"    \n",
    "    elif \" 09 \" in x:\n",
    "        return \"Sep\"    \n",
    "    elif \" 10 \" in x:\n",
    "        return \"Oct\"    \n",
    "    elif \" 11 \" in x:\n",
    "        return \"Nov\"    \n",
    "    else:\n",
    "        return \"Dec\""
   ]
  },
  {
   "cell_type": "code",
   "execution_count": 49,
   "id": "e65df175",
   "metadata": {},
   "outputs": [],
   "source": [
    "data[\"Month\"]=data[\"Date/Time\"].apply(find_month)"
   ]
  },
  {
   "cell_type": "code",
   "execution_count": 50,
   "id": "cd08e84a",
   "metadata": {
    "scrolled": true
   },
   "outputs": [
    {
     "data": {
      "text/html": [
       "<div>\n",
       "<style scoped>\n",
       "    .dataframe tbody tr th:only-of-type {\n",
       "        vertical-align: middle;\n",
       "    }\n",
       "\n",
       "    .dataframe tbody tr th {\n",
       "        vertical-align: top;\n",
       "    }\n",
       "\n",
       "    .dataframe thead th {\n",
       "        text-align: right;\n",
       "    }\n",
       "</style>\n",
       "<table border=\"1\" class=\"dataframe\">\n",
       "  <thead>\n",
       "    <tr style=\"text-align: right;\">\n",
       "      <th></th>\n",
       "      <th>LV ActivePower (kW)</th>\n",
       "      <th>Wind Speed (m/s)</th>\n",
       "      <th>Theoretical_Power_Curve (KWh)</th>\n",
       "      <th>Wind Direction (°)</th>\n",
       "    </tr>\n",
       "    <tr>\n",
       "      <th>Month</th>\n",
       "      <th></th>\n",
       "      <th></th>\n",
       "      <th></th>\n",
       "      <th></th>\n",
       "    </tr>\n",
       "  </thead>\n",
       "  <tbody>\n",
       "    <tr>\n",
       "      <th>April</th>\n",
       "      <td>824.358603</td>\n",
       "      <td>5.852096</td>\n",
       "      <td>955.690141</td>\n",
       "      <td>102.698848</td>\n",
       "    </tr>\n",
       "    <tr>\n",
       "      <th>August</th>\n",
       "      <td>1978.188795</td>\n",
       "      <td>9.339899</td>\n",
       "      <td>2220.579161</td>\n",
       "      <td>52.473360</td>\n",
       "    </tr>\n",
       "    <tr>\n",
       "      <th>Dec</th>\n",
       "      <td>1176.785881</td>\n",
       "      <td>7.357389</td>\n",
       "      <td>1424.063554</td>\n",
       "      <td>140.667803</td>\n",
       "    </tr>\n",
       "    <tr>\n",
       "      <th>Feb</th>\n",
       "      <td>1503.355020</td>\n",
       "      <td>8.620697</td>\n",
       "      <td>1712.709958</td>\n",
       "      <td>143.353927</td>\n",
       "    </tr>\n",
       "    <tr>\n",
       "      <th>Jan</th>\n",
       "      <td>1323.157951</td>\n",
       "      <td>8.550920</td>\n",
       "      <td>1847.287918</td>\n",
       "      <td>157.829495</td>\n",
       "    </tr>\n",
       "    <tr>\n",
       "      <th>July</th>\n",
       "      <td>477.014298</td>\n",
       "      <td>4.950335</td>\n",
       "      <td>583.709297</td>\n",
       "      <td>120.400853</td>\n",
       "    </tr>\n",
       "    <tr>\n",
       "      <th>June</th>\n",
       "      <td>995.490376</td>\n",
       "      <td>6.342205</td>\n",
       "      <td>1139.291376</td>\n",
       "      <td>130.566252</td>\n",
       "    </tr>\n",
       "    <tr>\n",
       "      <th>March</th>\n",
       "      <td>1952.405766</td>\n",
       "      <td>9.734390</td>\n",
       "      <td>2075.819877</td>\n",
       "      <td>190.378235</td>\n",
       "    </tr>\n",
       "    <tr>\n",
       "      <th>May</th>\n",
       "      <td>836.941996</td>\n",
       "      <td>5.859028</td>\n",
       "      <td>960.203607</td>\n",
       "      <td>136.501579</td>\n",
       "    </tr>\n",
       "    <tr>\n",
       "      <th>Nov</th>\n",
       "      <td>1886.693868</td>\n",
       "      <td>9.373864</td>\n",
       "      <td>2030.027723</td>\n",
       "      <td>101.102801</td>\n",
       "    </tr>\n",
       "    <tr>\n",
       "      <th>Oct</th>\n",
       "      <td>1408.274877</td>\n",
       "      <td>7.538289</td>\n",
       "      <td>1534.185219</td>\n",
       "      <td>108.738023</td>\n",
       "    </tr>\n",
       "    <tr>\n",
       "      <th>Sep</th>\n",
       "      <td>1429.484639</td>\n",
       "      <td>7.583327</td>\n",
       "      <td>1553.319599</td>\n",
       "      <td>98.196628</td>\n",
       "    </tr>\n",
       "  </tbody>\n",
       "</table>\n",
       "</div>"
      ],
      "text/plain": [
       "        LV ActivePower (kW)  Wind Speed (m/s)  Theoretical_Power_Curve (KWh)  \\\n",
       "Month                                                                          \n",
       "April            824.358603          5.852096                     955.690141   \n",
       "August          1978.188795          9.339899                    2220.579161   \n",
       "Dec             1176.785881          7.357389                    1424.063554   \n",
       "Feb             1503.355020          8.620697                    1712.709958   \n",
       "Jan             1323.157951          8.550920                    1847.287918   \n",
       "July             477.014298          4.950335                     583.709297   \n",
       "June             995.490376          6.342205                    1139.291376   \n",
       "March           1952.405766          9.734390                    2075.819877   \n",
       "May              836.941996          5.859028                     960.203607   \n",
       "Nov             1886.693868          9.373864                    2030.027723   \n",
       "Oct             1408.274877          7.538289                    1534.185219   \n",
       "Sep             1429.484639          7.583327                    1553.319599   \n",
       "\n",
       "        Wind Direction (°)  \n",
       "Month                       \n",
       "April           102.698848  \n",
       "August           52.473360  \n",
       "Dec             140.667803  \n",
       "Feb             143.353927  \n",
       "Jan             157.829495  \n",
       "July            120.400853  \n",
       "June            130.566252  \n",
       "March           190.378235  \n",
       "May             136.501579  \n",
       "Nov             101.102801  \n",
       "Oct             108.738023  \n",
       "Sep              98.196628  "
      ]
     },
     "execution_count": 50,
     "metadata": {},
     "output_type": "execute_result"
    }
   ],
   "source": [
    "data.iloc[:,2:7].groupby('Month').mean()"
   ]
  },
  {
   "cell_type": "markdown",
   "id": "048f3262",
   "metadata": {},
   "source": [
    "Looking at data above, March has the highest wind speed (9.734390 m/s) followed closely by August and November. "
   ]
  },
  {
   "cell_type": "markdown",
   "id": "a062d477",
   "metadata": {},
   "source": [
    "August has the highest actual power output (1978.188795\tkW) followed by March and November. "
   ]
  },
  {
   "cell_type": "markdown",
   "id": "d4edf6a4",
   "metadata": {},
   "source": [
    "This is what I would expect because wind speed has strong positive correlation with the actual power generated. "
   ]
  },
  {
   "cell_type": "markdown",
   "id": "c5761fd0",
   "metadata": {},
   "source": [
    "Part II - Correlation "
   ]
  },
  {
   "cell_type": "code",
   "execution_count": 51,
   "id": "6d2557c6",
   "metadata": {},
   "outputs": [
    {
     "data": {
      "text/plain": [
       "Text(0, 0.5, 'Theoretical_Power_Curve (KWh)')"
      ]
     },
     "execution_count": 51,
     "metadata": {},
     "output_type": "execute_result"
    },
    {
     "data": {
      "image/png": "iVBORw0KGgoAAAANSUhEUgAAAYwAAAEGCAYAAAB2EqL0AAAAOXRFWHRTb2Z0d2FyZQBNYXRwbG90bGliIHZlcnNpb24zLjMuNCwgaHR0cHM6Ly9tYXRwbG90bGliLm9yZy8QVMy6AAAACXBIWXMAAAsTAAALEwEAmpwYAAAhkUlEQVR4nO3de7RVdb338fdH8oK3ox7RgSChhppXzH3wblqZaD2BlYVH0y6PmAPHqaczepLq8VKD8hxTT56S52CZeLoYHTPJNG9dLEURDEUgEhUV4QBqPoIRyvb7/DF/OxfbdZl77zX3un1eY6yx1/zNOdf8zrEG68vvMn8/RQRmZma1bNHoAMzMrDU4YZiZWS5OGGZmlosThpmZ5eKEYWZmubyl0QEUadddd43Ro0c3Ogwzs5Yxf/785yNiWLl9bZ0wRo8ezbx58xodhplZy5D0dKV9bpIyM7NcnDDMzCwXJwwzM8vFCcPMzHJxwjAzs1zaepSUWTMbfeEvGh2CtZDdd9iKB790Ej/7w3NcfsdSVr60gT12GsrnT96PiYeNAKi6rx6cMMwGwRHT7mL1ulcbHYa1sNXrXuWQi3/Ja6/Dhte6AXjupQ1M/enCvx0z9acLy+6rV9JwwjArkGsRVk8vb+x+U9mG17q5/I6lf3tfbp8ThlkTc6KwwbTypQ392tdX7vQ2qzMnCxtse+w0lD12GlpxX724hmFWJ04UVrQdtx6yWR8GwNAth/D5k/cDNu/D6L2vHgqtYUjaRtJcSY9IWiTp0lR+iaTnJC1Ir1NLzpkqaZmkpZJOLik/XNLCtO9qSSoydrO+cLKwou2+w1Y8eul4vv7Bgxmx01AEjNhpKF//4MFMPGwEEw8bUXFfvajINb3Tj/p2EbFe0pbA74HPAOOB9RHxjV7HHwD8CBgH7AHcDewbEd2S5qZzHwBuA66OiNurXb+rqys8+aAVrZ7JYvll76vbZ5n1h6T5EdFVbl+hTVKRZaP1aXPL9KqWoSYAN0bERuApScuAcZKWAztGxBwASTcAE4GqCcOsaANJFk4O1moK7/SWNETSAmANcFdEPJh2XSDpUUnXSdo5lY0Ani05fUUqG5He9y4vd73JkuZJmrd27dp63orZZvqbLJZf9j4nC2tJhSeMiOiOiLHASLLawkHAdGAfYCywCrgiHV6uXyKqlJe73oyI6IqIrmHDyq4BYjZg/UkWThTW6gZtWG1EvAT8BhgfEatTInkduJaszwKymsOeJaeNBFam8pFlys0GXX+ThVmrK3qU1DBJO6X3Q4H3AH+UNLzksNOAx9L72cAkSVtL2gsYA8yNiFXAOklHpo70s4FbiozdrJy+JgvXKqydFP0cxnBgpqQhZMlpVkTcKuk/JY0la1ZaDpwHEBGLJM0CFgObgCkR0TOo+HzgemAoWWe3O7ytqTlRWLspdFhto3lYrdVTX2oXThbWqqoNq/XUIGY5OFmYOWGY1eRkYZZxwjCrEycLa3dOGGZVeI4oszc4YZhVcOa1c3If69qFdQInDLMK7nvixVzHOVlYp3DCMCsjb1OUk4V1EicMMzPLxQnDrBfXLszKc8Iw6wcnC+tEueaSktQFHEe2Ct4GsskC746IfL2CZi3Cw2jNKqtaw5D0cUkPA1PJJv1bSrYQ0rHAXZJmShpVfJhmzcO1C+tUtWoY2wHHRMSGcjvTjLNjgGfqHJfZoHPtwqy6qgkjIr5dY/+CukZj1uRcu7BOlrcPYxhwLjC69JyI+GQxYZkNLtcuzGrLu4DSLcDvgLuB7hrHmrUl1y6s0+VNGNtGxBcKjcSsQVy7MMsn73MYt0o6tdBIzJqYaxdmtYfVrpP0MvAZsqSxQdLLJeVVSdpG0lxJj0haJOnSVL6LpLskPZ7+7lxyzlRJyyQtlXRySfnhkhamfVdLUv9v2yzj2oVZflUTRkTsEBE7pr9bRMTQku0dc3z+RuBdEXEoMBYYL+lI4ELgnogYA9yTtpF0ADAJOBAYD1wjaUj6rOnAZLJhvGPSfrPCuXZhlqlVw/iZpM9LOkbSVn398MisT5tbplcAE4CZqXwmMDG9nwDcGBEbI+IpYBkwTtJwYMeImBMRAdxQco5Zv7h2YdY3tfowvgPsDEwD/lvS/ZIul3SapN3zXEDSEEkLyJ4QvysiHgR2j4hVAOnvbunwEcCzJaevSGUj0vve5eWuN1nSPEnz1q5dmydEs4pcuzB7Q60H924FboXshx84DDgBuBzYCxhS8eQ3PqMbGCtpJ+BmSQdVObxcv0RUKS93vRnADICurq6yx5iZWd/VHFYraVfg6PQ6EtiG7HmM/OtXAhHxkqTfkPU9rJY0PCJWpeamNemwFcCeJaeNBFam8pFlys36JU9zlGsXZpur1YfxOPBLsk7oO4D3R8SREfHpiJhZ7dx0/rBUs0DSUOA9wB+B2cA56bBzyB4MJJVPkrS1pL3IOrfnpmardZKOTKOjzi45x8zMBkGtGsZ1ZLWKDwEHAwdJmgP8ITU11TIcmJmas7YAZkXErekzZkn6FNnEhacDRMQiSbOAxcAmYErJdc4HriebNff29DLrs71cuzDrl1p9GF/veS9pX7JmqXOB4yStjYh31jj/UbJ+j97lLwDvrnDONLJO9t7l84Bq/R9mubhjy6x/cj3pLWlvYBxwBFmNYxiwrsC4zMysyVStYUi6GTgKeImsk/s+4N8jYnHxoZnVnzu7zfqvVh/Gw8C5EfF87x2Szo+I6cWEZWZmzaZWk9QngLf2LkxzQp1bSERmDeTahVlltRLG6cBPJB0FoMz/BY4je4DPrGV4KhCzgak1+eB8sjmbvi9pPPBfZB3e4yOi5my1ZmbWPmo9uLcL2VPW5wDfB14DzgO2T/vM2oabo8yqq9XpPZ83hq2vIxtWO5dsbqcA9i4uNLP6cXOU2cDVenBvr8EKxMzMmlutJqnRNfZL0shqx5i1AjdHmdVWq0nqcklbkE30Nx9YSzZb7duAE8mm97iYzdeqMGsqbo4yq49aTVKnp2VTzwQ+STaZ4F+AJcBtwLSI+GvhUZqZWcPVXA8jTQPypUGIxawh3Bxllk+uyQfNWpWbo8zqxwnDzMxyccKwjubmKLP88q6HIUlnSboobY+SNK7Y0MwGxs1RZvWVt4ZxDdm6GGek7XXAtwuJyMzMmlLehHFEREwB/goQEX8Gtqp1kqQ9Jf1a0hJJiyR9JpVfIuk5SQvS69SSc6ZKWiZpqaSTS8oPl7Qw7btakvp0p2a9uDnKrG9qDqtNXpM0hDSvlKRhwOs5ztsE/HNEPCxpB2C+pLvSvqsi4hulB6dnPiYBBwJ7AHdL2jciuoHpwGTgAbJnQMYDt+eM38zMBihvDeNq4GZgN0nTgN8DX6t1UkSsioiH0/t1ZA/8jahyygTgxojYGBFPAcuAcZKGAztGxJyICOAGsmnXzcpy/4VZ/eWqYUTEDyTNJ5sKRMDEiFjSlwuleakOAx4EjgEukHQ2MI+sFvJnsmTyQMlpK1LZa2w+/UhPudmbnHTlb2oe4+Yos77LO0rqm8AuEfHtiPhWP5LF9sBNwGfTwkvTgX2AscAq4IqeQ8ucHlXKy11rsqR5kuatXbu2L2Fam3h8zSuNDsGsLeVtknoY+HLqcL5cUlfeC0jakixZ/CAifgoQEasjojsiXgeuBXqG6K4A9iw5fSSwMpWPLFP+JhExIyK6IqJr2LBhecM0M7MaciWMiJgZEaeS/bD/CfgXSY/XOi+NZPousCQiriwpH15y2GnAY+n9bGCSpK0l7QWMAeZGxCpgnaQj02eeTTaDrtlm8vRdjNltu0GIxKz95B0l1eNtwP7AaGBxjuOPAT4GLJS0IJV9EThD0liyZqXlZMu+EhGLJM1Kn70JmJJGSAGcD1wPDCUbHeURUtYvd33uhEaHYNaSciUMSf8CfBB4Avgx8NWIeKnWeRHxe8r3P9xW5ZxpwLQy5fOAg/LEa2Zm9VczYaQmoPXAURHxfPEhmfWPh9KaFatmH0Z67mGik4W1Aw+nNeu/vKOkHpD0D4VGYlYwJwuzgcnb6X0icJ6kp4FXyPolIiIOKSwysz5wc5RZ8fImjFMKjcLMzJpe3oRR9qlqs1bh5iizgcubMH7BG1N0bAPsBSwlm1XWrKHcHGU2OPJOPnhw6bakd5AetjMzs87QrzW905TlHjVlLcHNUWb1kfdJ78+VbG4BHA54KlhrODdHmQ2evH0YO5S83wTcSjYDrZmZdYiqCUPSNsAOEXFpr/LdCo3KrE7cHGVWP7X6MK4GjitTfhJwVf3DMcvPzVFmg6tWwji2Z9GjUhHxA+D4YkIyM7NmVCthlJuaPO+5Zg3l5iiz+qr1o79G0rjehWkiQo+SsoZxc5TZ4Ks1SurzwCxJ1wPzU1kX2RKpkwqMy8zMmkzVGkZEzCVbx1vAx9NLwBER8WDRwZn1l5ujzOqv5nMYEbEGuLjaMZJuiogP1S0qsyrcHGXWGPXquN67XKGkPSX9WtISSYskfSaV7yLpLkmPp787l5wzVdIySUslnVxSfrikhWnf1WnpWDMzGyT1ShiVpj/fBPxzRLwdOBKYIukA4ELgnogYA9yTtkn7JpHNgjseuEbSkPRZ04HJwJj0Gl+n2K3NuDnKrBiFDo2NiFVpokIiYh2wBBgBTABmpsNmAhPT+wnAjRGxMSKeApYB4yQNB3aMiDlpjfEbSs6xDuLmKLPGqVfCqNk8JGk0cBjwILB7RKyCLKkAPVONjACeLTltRSobkd73Li93ncmS5kmat3atR/6amdVLzYQhaYik79c47As1PmN7sskKPxsRL1c7tExZVCl/c2HEjIjoioiuYcOGVQvL2pCbo8yKUzNhREQ3MEzSVlWOubPSPklbkiWLH5RMM7I6NTOR/q5J5SuAPUtOHwmsTOUjy5RbB3FzlFlj5W2SWg7cJ+n/SPpcz6vWSWkk03eBJRFxZcmu2cA56f05wC0l5ZMkbS1pL7LO7bmp2WqdpCPTZ55dco6ZmQ2CvOthrEyvLdh8bYxajgE+BiyUtCCVfRG4jOwJ8k8BzwCnA0TEIkmzgMVkI6ympBoOwPnA9cBQ4Pb0MvsbN0eZFSvvmt6XAkjaLiJeyfvhEfF7KneIv7vCOdOAaWXK5wEH5b22tRc3R5k1Xq4mKUlHSVpMNiwWSYdKuqbQyMzMrKnk7cP4N+Bk4AWAiHgEr4dhg2T/L91W8xg3R5kVL/dzGBHxbK+i7rIHmtXZX7srTSRgZoMpb6f3s5KOBiINr/0nUvOUmZl1hrw1jE8DU3jjieuxadusUHk6u90cZTY48tYw1kfEmYVGYmZmTS1vwnhM0mrgd8C9wH0R8f+KC8ssH9cuzAZPriapiHgbcAawEHg/8EjJg3hmhfCzF2bNJVcNQ9JIsqe2jwMOBRYBvy8wLjMzazJ5m6SeAR4CvhYRny4wHrPc3BxlNrjyjpI6jGzRon+UNEfSDWkeKLNCuDnKrPnknUvqEUlPAE+QNUudRfak93cLjM3MzJpI3j6MecDWwP1kfRfHR8TTRQZmncvPXpg1p7x9GKdEhNc7NTPrYHn7MF6VdGXPWtmSrpD0d4VGZmZmTSVvwrgOWAd8JL1eBr5XVFDWudwcZda88jZJ7RMRHyrZvtQP7pmZdZa8NYwNko7t2ZB0DLChmJDMKnPtwqxx+jJb7bclLZe0HPgWcF6tkyRdJ2mNpMdKyi6R9JykBel1asm+qZKWSVoq6eSS8sMlLUz7rpZUadlXa2F+9sKsudVMGJIOA8YAk4BDgEMi4rCIeDTH518PjC9TflVEjE2v29J1DkjXODCdc42kIen46cDkFMeYCp9pZmYFqpowJF0E/Bj4EPAL4KMR8XLeD4+Ie4EXcx4+AbgxIjZGxFPAMmCcpOHAjhExJyKC7InziXljsNbgzm6z5lerhvFRYGxEnAH8A9n/8uvhAkmPpiarnVPZCKB0GdgVqaxn0abe5WZmNohqJYy/RsRfACLihRzH5zEd2Ids1b5VwBWpvFy/RFQpL0vS5J7nRdau9bOGZmb1UmtY7T6SZqf36rVNRHygrxeMiNU97yVdC9yaNlcAe5YcOhJYmcpHlimv9PkzgBkAXV1dFROLNQ83R5m1hloJY0Kv7W8M9IKShkfEqrR5GtAzgmo28ENJVwJ7kHVuz42IbknrJB0JPAicDfz7QOMwM7O+qZowIuK3eT5E0k29HuzrKf8RcAKwq6QVwMXACZLGkjUrLScNz42IRZJmAYuBTcCUiOhOH3U+2YirocDt6WVtwLULs9aR90nvWvYuV5g6y3urOCV6REwDppUpnwcc1O/ozMxswOrRiQ1VOqHNzKw91CthmPWZm6PMWku9Eoan6jAza3P1ShhfqNPnWIdw7cKs9VTt9Ja0kPL9EwIiIg4he3NnAbGZmVkTqTVK6v2DEoWZmTW9Ws9hPD1YgVjncHOUWWvK1Ych6UhJD0laL+lVSd2Scs9aa2ZmrS9vp/e3gDOAx8metv6feHoO6wfXLsxaV+4nvSNimaQhabqO70m6v8C4zMysyeRNGH+RtBWwQNK/kk1Lvl1xYVk78hKsZq0tb5PUx9KxFwCvkE1D/qbJBs0Gys1RZs0rbw3jeeDViPgrcGlaa3vr4sKyduPahVnry1vDuAfYtmR7KHB3/cOxTubahVlzy5swtomI9T0b6f22VY43M7M2kzdhvCLpHT0bkg4HNhQTkrUbD6U1aw95+zA+C/xEUs9a2sOBjxYSkZmZNaVcCSMiHpK0P7Af2cSDf4yI1wqNzNqCaxdm7aPWbLXviohfSfpgr11jJBERPy0wNjMzayK1+jDemf7+jzKvmjPZSrpO0hpJj5WU7SLpLkmPp787l+ybKmmZpKWSTi4pP1zSwrTvaklesKkFeCitWXupmjAi4uL09isR8YnSF/DVHJ9/PTC+V9mFwD0RMYZsuO6FAJIOACYBB6ZzrknPewBMByYDY9Kr92dai3JzlFnryDtK6qYyZf9V66SIuBd4sVfxBGBmej8TmFhSfmNEbIyIp4BlwDhJw4EdI2JORARwQ8k51qRcuzBrP7X6MPYn+x//3/Xqx9gR2Kaf19w9IlYBRMQqSbul8hHAAyXHrUhlr6X3vcsrxTyZrDbCqFGj+hmiDQbXLsxaS61RUvuR9VXsRNZv0WMdcG6dYynXLxFVysuKiBnADICurq6Kx1lxXLswa0+1Vty7BbhF0lERMadO11wtaXiqXQwH1qTyFWSTGvYYCaxM5SPLlFsLc+3CrPXk7cN4QdI9PaOdJB0i6cv9vOZs4Jz0/hzglpLySZK2lrQXWef23NR8tS6t+ifg7JJzrMm4dmHWvvImjGuBqWT9CUTEo2QjmqqS9CNgDrCfpBWSPgVcBpwk6XHgpLRNRCwCZgGLgV8CU9JiTQDnA98h6wh/Arg9Z9zWhFy7MGtNeacG2TYi5vZ6/GFTrZMi4owKu95d4fhpwLQy5fOAg3LEaQ3k2oVZe8tbw3he0j6kzmZJHyZbdc+sT1y7MGtdeWsYU8hGHu0v6TngKeDMwqKyluPahVn7q5kw0tPW50fEeyRtB2wREeuKD81aRd5k4dqFWWurmTAiojutf0FEvFJ8SGZm1ozyNkn9QdJs4CfA35KGZ6s11y7MOkfehLEL8ALwrpKyAJwwrKbdd9iq0SGYWR3kXUDpE0UHYq0nb+3iwS+dVHAkZjYYcg2rlTRS0s1pbYvVkm6SNLL2mdbp3BRl1j7yPofxPbKpO/Ygmyn256nMOpSH0Zp1nrwJY1hEfC8iNqXX9cCwAuOyJuaObrPO1Jcnvc+SNCS9ziLrBDczsw6RN2F8EvgI8N9kU4J8OJVZh3Htwqxz5R0l9QzwgYJjsSbnZGHW2fKOktq3juthmJlZCyp0PQxrH65dmFnehLFtRMztVVZzPQxrDx5Ca2bg9TCsjly7MGtvA1kP46zCorKm4aYoM+uRd5TUk0Bd18OQtBxYB3QDmyKiS9IuwI+B0cBy4CMR8ed0/FTgU+n4f4qIOwYag1XnpigzK5UrYUjaGvgQ2Q/5W3rW9o6Irwzw+idGxPMl2xcC90TEZZIuTNtfkHQAWSf7gWTTk9wtad+I6B7g9a2CM6+dk/tY1y7MOkPePoxbgAlkHd2vlLzqbQIwM72fCUwsKb8xIjZGxFPAMmBcAde35L4nXsx1nJOFWefI24cxMiLG1/naAdwpKYD/iIgZwO4RsQogIlZJ2i0dOwJ4oOTcFansTSRNBiYDjBo1qs4hdwY3RZlZOXlrGPdLOrjO1z4mIt4BnAJMkXR8lWNVpizKHRgRMyKiKyK6hg3z/Ih91Zdk4dqFWWepWsNIT3a/no77hKQngY1kP+AREYf098IRsTL9XSPpZrImptWShqfaxXBgTTp8BbBnyekjgZX9vbaV52RhZtXUapIaAYyt90VLR1ul9+8FvkK25sY5wGXp7y3plNnADyVdSdbpPQbo/SChDRInC7POVCthPBURTxdw3d2Bm9Noq7cAP4yIX0p6CJgl6VPAM8DpABGxSNIsYDFZx/sUj5CqL/dbmFkttRLGbpI+V2lnRFzZn4um5zoOLVP+AvDuCudMA6b153pWnZuizCyPWgljCLA95TudrQ04WZhZXrUSxqo6PJxnTcrJwsz6otawWtcs2pT7LMysr2oljLL9Cdba+posXLswM6iRMCIi3/wQ1jKcLMysv/I+6W1twMnCzAbCCaNDOFmY2UA5YXQAJwszqwcnjDbnZGFm9eKE0cacLMysnpww2pSThZnVmxNGG3KyMLMi5F1xz1pAf57edrIws7xcw2gTThZmVjQnjDbgZGFmg8FNUi2svxMIOlmYWX84YbSggcw062RhZv3lhNFCBjoluZOFmQ2EE0aTq9e6FU4WZjZQLZUwJI0Hvkm2dOx3IuKyel+j3RYWcqIws3ppmVFSkoYA3wZOAQ4AzpB0QD2v4WRhZlZZyyQMYBywLCKejIhXgRuBCQ2OqWk5WZhZvbVSk9QI4NmS7RXAEb0PkjQZmAwwatSowYmsiThRmFlRWilhqExZvKkgYgYwA6Crq+tN+9uVE4WZFa2VEsYKYM+S7ZHAygbF0hScJMxsMLVSH8ZDwBhJe0naCpgEzK7nBVrlB3j5Ze9rmVjNrH20TA0jIjZJugC4g2xY7XURsaje1/EPsZlZeS2TMAAi4jbgtkbHYWbWiVqpScrMzBrICcPMzHJxwjAzs1ycMMzMLBdFtO+zbZLWAk/38/RdgefrGE6z67T7hc67Z99v+6vHPb81IoaV29HWCWMgJM2LiK5GxzFYOu1+ofPu2ffb/oq+ZzdJmZlZLk4YZmaWixNGZTMaHcAg67T7hc67Z99v+yv0nt2HYWZmubiGYWZmuThhmJlZLk4YvUgaL2mppGWSLmx0PINB0nJJCyUtkDSv0fHUm6TrJK2R9FhJ2S6S7pL0ePq7cyNjrLcK93yJpOfS97xA0qmNjLGeJO0p6deSlkhaJOkzqbwtv+cq91vod+w+jBKShgB/Ak4iW7DpIeCMiFjc0MAKJmk50BURbfmQk6TjgfXADRFxUCr7V+DFiLgs/cdg54j4QiPjrKcK93wJsD4ivtHI2IogaTgwPCIelrQDMB+YCHycNvyeq9zvRyjwO3YNY3PjgGUR8WREvArcCExocEw2QBFxL/Bir+IJwMz0fibZP7a2UeGe21ZErIqIh9P7dcASYARt+j1Xud9COWFsbgTwbMn2CgbhS2gCAdwpab6kyY0OZpDsHhGrIPvHB+zW4HgGywWSHk1NVm3RPNObpNHAYcCDdMD33Ot+ocDv2AljcypT1gltdsdExDuAU4ApqTnD2s90YB9gLLAKuKKh0RRA0vbATcBnI+LlRsdTtDL3W+h37ISxuRXAniXbI4GVDYpl0ETEyvR3DXAzWdNcu1ud2oF72oPXNDiewkXE6ojojojXgWtps+9Z0pZkP54/iIifpuK2/Z7L3W/R37ETxuYeAsZI2kvSVsAkYHaDYyqUpO1SpxmStgPeCzxW/ay2MBs4J70/B7ilgbEMip4fzuQ02uh7liTgu8CSiLiyZFdbfs+V7rfo79ijpHpJw9D+DRgCXBcR0xobUbEk7U1Wq4Bsjfcftts9S/oRcALZ1M+rgYuBnwGzgFHAM8DpEdE2ncQV7vkEsqaKAJYD5/W077c6SccCvwMWAq+n4i+Steu33fdc5X7PoMDv2AnDzMxycZOUmZnl4oRhZma5OGGYmVkuThhmZpaLE4aZmeXihGFtQdJVkj5bsn2HpO+UbF8h6XOSPtDXWYglXS/pw2XKj5T0YJoVdEma3K8wkj4u6VsV9k2UdFE/PnOqpDMr7DtY0vV9/UxrX04Y1i7uB44GkLQF2fMHB5bsPxq4LyJmR8RldbrmTGByRIwFDiIb798o/xu4ph/nvRe4s9yOiFgIjJQ0aiCBWftwwrB2cR8pYZAliseAdZJ2lrQ18HbgD6X/S081h6sl3S/pyZ5ahDLfkrRY0i+oPGHdbmTz9ZCmY1iczr9E0n9K+lVah+HcnhMkfV7SQ2lyuEtLys+SNDfVVv4jTbWPpE9I+pOk3wLHlAtC0r7Axp7p6dN9TU/rJTwp6Z1pIrolpTUGSTsCW0XEWkmnS3pM0iOS7i35+J+TzXhg5oRh7SHNh7Up/W/4aGAO2VO+RwFdwKNpyvrehgPHAu8HemoepwH7AQcD5/JGIurtKmCppJslnSdpm5J9hwDvS9e/SNIekt4LjCGb32cscLik4yW9Hfgo2SSQY4Fu4Mw0zcOlZIniJOCACnEcAzzcq2xn4F3A/yL70b+KLJEeLGlsOuY9wD3p/UXAyRFxKPCBks+ZBxxX4brWYZwwrJ301DJ6Esacku37K5zzs4h4PdUOdk9lxwM/SrWGlcCvyp0YEV8hS0Z3Av8I/LJk9y0RsSH9r//XZEniven1B7If+P3JEsi7gcOBhyQtSNt7A0cAv4mItSnZ/bjCPQwH1vYq+3lk0zgsBFZHxMI0Id0iYHQ6Zjxwe3p/H3B9qg0NKfmcNcAeFa5rHcYJw9pJTz/GwWRNUg+Q/Q//aLIfxHI2lrwvnd4+15w5EfFEREwn+5E/VNLfVzg/0ud/PSLGptfbIuK7qXxmSfl+EXFJH+LYAGzTq6znvl5n83t8nWzOMMiS2Nx0H58Gvkw2W/OCkvvYJn2+mROGtZX7yJqWXky1gxeBnciSxpw+fM69wCRJQ1Kz0InlDpL0vjRrKGQ1hW7gpbQ9QdI26Yf3BLKZkO8APpnWMEDSCEm7kTULfTi971mH+q1kTWonSPr7NJX16RXiXQK8rQ/3h6QDgT9GRHfa3iciHoyIi4DneWOa/31po1ltbWDeUvsQs5axkGx01A97lW3fx/XKbyZr/19Itsb7bysc9zHgKkl/ATYBZ0ZEd8ohc4FfkM2S+tXUtLUy9VfMScesB86KiMWSvky26uEWwGvAlIh4IA3VnUPWuf4wmzcX9bgXuEKSIv9soqeweRPa5ZLGkNV27gEeSeUnpvsw82y1ZvWWfuTXR8Q3BvGa3yTrt7g75/F3AWdXm/o6jS77LXBsRGyqT6TWytwkZdYevgZsm/fgiDgpxzoJo4ALnSysh2sYZmaWi2sYZmaWixOGmZnl4oRhZma5OGGYmVkuThhmZpbL/weFv49SVcTbkQAAAABJRU5ErkJggg==\n",
      "text/plain": [
       "<Figure size 432x288 with 1 Axes>"
      ]
     },
     "metadata": {
      "needs_background": "light"
     },
     "output_type": "display_data"
    }
   ],
   "source": [
    "# scatterplot of theoretical power versus wind speed \n",
    "\n",
    "plt.scatter(data.iloc[:,3], data.iloc[:,4])\n",
    "plt.xlabel('Wind Speed (m/s)')\n",
    "plt.ylabel('Theoretical_Power_Curve (KWh)') "
   ]
  },
  {
   "cell_type": "code",
   "execution_count": 52,
   "id": "5b64c590",
   "metadata": {},
   "outputs": [
    {
     "data": {
      "text/plain": [
       "Text(0, 0.5, 'Theoretical_Power_Curve (KWh)')"
      ]
     },
     "execution_count": 52,
     "metadata": {},
     "output_type": "execute_result"
    },
    {
     "data": {
      "image/png": "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\n",
      "text/plain": [
       "<Figure size 432x288 with 1 Axes>"
      ]
     },
     "metadata": {
      "needs_background": "light"
     },
     "output_type": "display_data"
    }
   ],
   "source": [
    "# scatterplot of theoretical power versus wind direction  \n",
    "\n",
    "plt.scatter(data.iloc[:,5],data.iloc[:,4])\n",
    "plt.xlabel('Wind Direction (°)')\n",
    "plt.ylabel('Theoretical_Power_Curve (KWh)') "
   ]
  },
  {
   "cell_type": "markdown",
   "id": "16fa41e4",
   "metadata": {},
   "source": [
    "I chose to put theoretical power in Y-axis in both cases above because it is determined by both Wind Speed and Wind Direction. It is conventional to put independent variable in X axis and dependent variable in Y-axis. "
   ]
  },
  {
   "cell_type": "markdown",
   "id": "0659ffe1",
   "metadata": {},
   "source": [
    "First scatterplot shows a clear relationship between theoretical power and Wind Speed. However in second plot, there is no clear relationship between theoretical power and Wind Direction. "
   ]
  },
  {
   "cell_type": "code",
   "execution_count": 53,
   "id": "664adf42",
   "metadata": {},
   "outputs": [
    {
     "data": {
      "text/plain": [
       "Text(0, 0.5, ' Actual Power(KW)')"
      ]
     },
     "execution_count": 53,
     "metadata": {},
     "output_type": "execute_result"
    },
    {
     "data": {
      "image/png": "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\n",
      "text/plain": [
       "<Figure size 432x288 with 1 Axes>"
      ]
     },
     "metadata": {
      "needs_background": "light"
     },
     "output_type": "display_data"
    }
   ],
   "source": [
    "# scatterplot of actual power versus wind speed \n",
    "\n",
    "plt.scatter(data.iloc[:,3],data.iloc[:,2])\n",
    "plt.xlabel('Wind Speed (m/s)')\n",
    "plt.ylabel(' Actual Power(KW)') "
   ]
  },
  {
   "cell_type": "code",
   "execution_count": 38,
   "id": "f21b7f11",
   "metadata": {},
   "outputs": [
    {
     "data": {
      "text/plain": [
       "Text(0, 0.5, 'Actual Power (KW)')"
      ]
     },
     "execution_count": 38,
     "metadata": {},
     "output_type": "execute_result"
    },
    {
     "data": {
      "image/png": "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\n",
      "text/plain": [
       "<Figure size 432x288 with 1 Axes>"
      ]
     },
     "metadata": {
      "needs_background": "light"
     },
     "output_type": "display_data"
    }
   ],
   "source": [
    "# scatterplot of actual power versus wind direction\n",
    "\n",
    "plt.scatter(data.iloc[:,5],data.iloc[:,2])\n",
    "plt.xlabel('Wind Direction (°)')\n",
    "plt.ylabel('Actual Power (KW)') \n"
   ]
  },
  {
   "cell_type": "markdown",
   "id": "3395b8ea",
   "metadata": {},
   "source": [
    "First scatterplot shows a clear relationship between actual power and Wind Speed. However in second plot, there is no clear relationship between actual power and Wind Direction."
   ]
  },
  {
   "cell_type": "markdown",
   "id": "e761bf2c",
   "metadata": {},
   "source": [
    "3. "
   ]
  },
  {
   "cell_type": "markdown",
   "id": "0710fe43",
   "metadata": {},
   "source": [
    "Comparing the scatterplots between theoretical power and actual power, it seems evident that both of these parameters don't depend on wind direction. \n",
    "However, theoretical power seems to be more related with wind speed than actual power does with wind speed. It might be due to other random variables that affects actual power in real life. "
   ]
  },
  {
   "cell_type": "code",
   "execution_count": 54,
   "id": "cfb43e5e",
   "metadata": {},
   "outputs": [
    {
     "data": {
      "text/html": [
       "<div>\n",
       "<style scoped>\n",
       "    .dataframe tbody tr th:only-of-type {\n",
       "        vertical-align: middle;\n",
       "    }\n",
       "\n",
       "    .dataframe tbody tr th {\n",
       "        vertical-align: top;\n",
       "    }\n",
       "\n",
       "    .dataframe thead th {\n",
       "        text-align: right;\n",
       "    }\n",
       "</style>\n",
       "<table border=\"1\" class=\"dataframe\">\n",
       "  <thead>\n",
       "    <tr style=\"text-align: right;\">\n",
       "      <th></th>\n",
       "      <th>LV ActivePower (kW)</th>\n",
       "      <th>Wind Speed (m/s)</th>\n",
       "      <th>Theoretical_Power_Curve (KWh)</th>\n",
       "      <th>Wind Direction (°)</th>\n",
       "    </tr>\n",
       "  </thead>\n",
       "  <tbody>\n",
       "    <tr>\n",
       "      <th>LV ActivePower (kW)</th>\n",
       "      <td>1.000000</td>\n",
       "      <td>0.912774</td>\n",
       "      <td>0.949918</td>\n",
       "      <td>-0.062702</td>\n",
       "    </tr>\n",
       "    <tr>\n",
       "      <th>Wind Speed (m/s)</th>\n",
       "      <td>0.912774</td>\n",
       "      <td>1.000000</td>\n",
       "      <td>0.944209</td>\n",
       "      <td>-0.077188</td>\n",
       "    </tr>\n",
       "    <tr>\n",
       "      <th>Theoretical_Power_Curve (KWh)</th>\n",
       "      <td>0.949918</td>\n",
       "      <td>0.944209</td>\n",
       "      <td>1.000000</td>\n",
       "      <td>-0.099076</td>\n",
       "    </tr>\n",
       "    <tr>\n",
       "      <th>Wind Direction (°)</th>\n",
       "      <td>-0.062702</td>\n",
       "      <td>-0.077188</td>\n",
       "      <td>-0.099076</td>\n",
       "      <td>1.000000</td>\n",
       "    </tr>\n",
       "  </tbody>\n",
       "</table>\n",
       "</div>"
      ],
      "text/plain": [
       "                               LV ActivePower (kW)  Wind Speed (m/s)  \\\n",
       "LV ActivePower (kW)                       1.000000          0.912774   \n",
       "Wind Speed (m/s)                          0.912774          1.000000   \n",
       "Theoretical_Power_Curve (KWh)             0.949918          0.944209   \n",
       "Wind Direction (°)                       -0.062702         -0.077188   \n",
       "\n",
       "                               Theoretical_Power_Curve (KWh)  \\\n",
       "LV ActivePower (kW)                                 0.949918   \n",
       "Wind Speed (m/s)                                    0.944209   \n",
       "Theoretical_Power_Curve (KWh)                       1.000000   \n",
       "Wind Direction (°)                                 -0.099076   \n",
       "\n",
       "                               Wind Direction (°)  \n",
       "LV ActivePower (kW)                     -0.062702  \n",
       "Wind Speed (m/s)                        -0.077188  \n",
       "Theoretical_Power_Curve (KWh)           -0.099076  \n",
       "Wind Direction (°)                       1.000000  "
      ]
     },
     "execution_count": 54,
     "metadata": {},
     "output_type": "execute_result"
    }
   ],
   "source": [
    "#4. correlation table\n",
    "new_data.corr()"
   ]
  },
  {
   "cell_type": "markdown",
   "id": "081493ab",
   "metadata": {},
   "source": [
    "(a) wind speed and theoretical power curve have a correlation of + 0.944209. This shows a strong positive correlation between these two variables as expected above from scatterplot, meaning wind speed does affect theoretical power curve."
   ]
  },
  {
   "cell_type": "markdown",
   "id": "3abc12f0",
   "metadata": {},
   "source": [
    "(b) wind direction and theoretical power curve have a correlation of -0.099076. This shows a weak negative correlation between these two variables as expected above from scatterplot, meaning wind direction doesn't affect theoretical power curve."
   ]
  },
  {
   "cell_type": "markdown",
   "id": "d5c91d3e",
   "metadata": {},
   "source": [
    "(c) wind speed and actual power curve have a correlation of +0.912774. This shows a strong positive correlation between these two variables as expected above from scatterplot, meaning wind speed does affect actual power curve."
   ]
  },
  {
   "cell_type": "markdown",
   "id": "79782fe6",
   "metadata": {},
   "source": [
    "(d) wind direction and actual power curve have a correlation of -0.062702. This shows a weak negative correlation between these two variables as expected above from scatterplot, meaning wind direction doesn't affect actual power curve. "
   ]
  },
  {
   "cell_type": "markdown",
   "id": "42039c93",
   "metadata": {},
   "source": [
    "5. Theoretical power and the actual power have a correlation of +0.949918. This shows a strong positive correlation between these two variables.\n",
    "This makes complete sense because we would expect our practical result to be close to theoretical calculated value. "
   ]
  },
  {
   "cell_type": "markdown",
   "id": "035da6b9",
   "metadata": {},
   "source": [
    "Part III - Feature Analysis and Interpretation "
   ]
  },
  {
   "cell_type": "markdown",
   "id": "bb10b3e9",
   "metadata": {},
   "source": [
    "1."
   ]
  },
  {
   "cell_type": "code",
   "execution_count": 55,
   "id": "040fda07",
   "metadata": {},
   "outputs": [],
   "source": [
    "data['Loss'] = data['LV ActivePower (kW)'] - data['Theoretical_Power_Curve (KWh)']"
   ]
  },
  {
   "cell_type": "code",
   "execution_count": 56,
   "id": "f4f0f23b",
   "metadata": {
    "scrolled": true
   },
   "outputs": [
    {
     "data": {
      "text/html": [
       "<div>\n",
       "<style scoped>\n",
       "    .dataframe tbody tr th:only-of-type {\n",
       "        vertical-align: middle;\n",
       "    }\n",
       "\n",
       "    .dataframe tbody tr th {\n",
       "        vertical-align: top;\n",
       "    }\n",
       "\n",
       "    .dataframe thead th {\n",
       "        text-align: right;\n",
       "    }\n",
       "</style>\n",
       "<table border=\"1\" class=\"dataframe\">\n",
       "  <thead>\n",
       "    <tr style=\"text-align: right;\">\n",
       "      <th></th>\n",
       "      <th>Observation Number</th>\n",
       "      <th>Date/Time</th>\n",
       "      <th>LV ActivePower (kW)</th>\n",
       "      <th>Wind Speed (m/s)</th>\n",
       "      <th>Theoretical_Power_Curve (KWh)</th>\n",
       "      <th>Wind Direction (°)</th>\n",
       "      <th>Month</th>\n",
       "      <th>Loss</th>\n",
       "    </tr>\n",
       "  </thead>\n",
       "  <tbody>\n",
       "    <tr>\n",
       "      <th>0</th>\n",
       "      <td>1</td>\n",
       "      <td>01 01 2018 00:00</td>\n",
       "      <td>380.047791</td>\n",
       "      <td>5.311336</td>\n",
       "      <td>416.328908</td>\n",
       "      <td>259.994904</td>\n",
       "      <td>Jan</td>\n",
       "      <td>-36.281117</td>\n",
       "    </tr>\n",
       "    <tr>\n",
       "      <th>1</th>\n",
       "      <td>2</td>\n",
       "      <td>01 01 2018 00:10</td>\n",
       "      <td>453.769196</td>\n",
       "      <td>5.672167</td>\n",
       "      <td>519.917511</td>\n",
       "      <td>268.641113</td>\n",
       "      <td>Jan</td>\n",
       "      <td>-66.148315</td>\n",
       "    </tr>\n",
       "    <tr>\n",
       "      <th>2</th>\n",
       "      <td>3</td>\n",
       "      <td>01 01 2018 00:20</td>\n",
       "      <td>306.376587</td>\n",
       "      <td>5.216037</td>\n",
       "      <td>390.900016</td>\n",
       "      <td>272.564789</td>\n",
       "      <td>Jan</td>\n",
       "      <td>-84.523429</td>\n",
       "    </tr>\n",
       "    <tr>\n",
       "      <th>3</th>\n",
       "      <td>4</td>\n",
       "      <td>01 01 2018 00:30</td>\n",
       "      <td>419.645904</td>\n",
       "      <td>5.659674</td>\n",
       "      <td>516.127569</td>\n",
       "      <td>271.258087</td>\n",
       "      <td>Jan</td>\n",
       "      <td>-96.481665</td>\n",
       "    </tr>\n",
       "    <tr>\n",
       "      <th>4</th>\n",
       "      <td>5</td>\n",
       "      <td>01 01 2018 00:40</td>\n",
       "      <td>380.650696</td>\n",
       "      <td>5.577941</td>\n",
       "      <td>491.702972</td>\n",
       "      <td>265.674286</td>\n",
       "      <td>Jan</td>\n",
       "      <td>-111.052276</td>\n",
       "    </tr>\n",
       "  </tbody>\n",
       "</table>\n",
       "</div>"
      ],
      "text/plain": [
       "   Observation Number         Date/Time  LV ActivePower (kW)  \\\n",
       "0                   1  01 01 2018 00:00           380.047791   \n",
       "1                   2  01 01 2018 00:10           453.769196   \n",
       "2                   3  01 01 2018 00:20           306.376587   \n",
       "3                   4  01 01 2018 00:30           419.645904   \n",
       "4                   5  01 01 2018 00:40           380.650696   \n",
       "\n",
       "   Wind Speed (m/s)  Theoretical_Power_Curve (KWh)  Wind Direction (°) Month  \\\n",
       "0          5.311336                     416.328908          259.994904   Jan   \n",
       "1          5.672167                     519.917511          268.641113   Jan   \n",
       "2          5.216037                     390.900016          272.564789   Jan   \n",
       "3          5.659674                     516.127569          271.258087   Jan   \n",
       "4          5.577941                     491.702972          265.674286   Jan   \n",
       "\n",
       "         Loss  \n",
       "0  -36.281117  \n",
       "1  -66.148315  \n",
       "2  -84.523429  \n",
       "3  -96.481665  \n",
       "4 -111.052276  "
      ]
     },
     "execution_count": 56,
     "metadata": {},
     "output_type": "execute_result"
    }
   ],
   "source": [
    "data.head()"
   ]
  },
  {
   "cell_type": "code",
   "execution_count": 57,
   "id": "83d7ccbf",
   "metadata": {},
   "outputs": [],
   "source": [
    "data['Loss percentage(%)'] = ((data['Theoretical_Power_Curve (KWh)'] - data['LV ActivePower (kW)']) /  data['Theoretical_Power_Curve (KWh)'])*100"
   ]
  },
  {
   "cell_type": "code",
   "execution_count": 58,
   "id": "935fe1e7",
   "metadata": {},
   "outputs": [
    {
     "data": {
      "text/html": [
       "<div>\n",
       "<style scoped>\n",
       "    .dataframe tbody tr th:only-of-type {\n",
       "        vertical-align: middle;\n",
       "    }\n",
       "\n",
       "    .dataframe tbody tr th {\n",
       "        vertical-align: top;\n",
       "    }\n",
       "\n",
       "    .dataframe thead th {\n",
       "        text-align: right;\n",
       "    }\n",
       "</style>\n",
       "<table border=\"1\" class=\"dataframe\">\n",
       "  <thead>\n",
       "    <tr style=\"text-align: right;\">\n",
       "      <th></th>\n",
       "      <th>Observation Number</th>\n",
       "      <th>Date/Time</th>\n",
       "      <th>LV ActivePower (kW)</th>\n",
       "      <th>Wind Speed (m/s)</th>\n",
       "      <th>Theoretical_Power_Curve (KWh)</th>\n",
       "      <th>Wind Direction (°)</th>\n",
       "      <th>Month</th>\n",
       "      <th>Loss</th>\n",
       "      <th>Loss percentage(%)</th>\n",
       "    </tr>\n",
       "  </thead>\n",
       "  <tbody>\n",
       "    <tr>\n",
       "      <th>0</th>\n",
       "      <td>1</td>\n",
       "      <td>01 01 2018 00:00</td>\n",
       "      <td>380.047791</td>\n",
       "      <td>5.311336</td>\n",
       "      <td>416.328908</td>\n",
       "      <td>259.994904</td>\n",
       "      <td>Jan</td>\n",
       "      <td>-36.281117</td>\n",
       "      <td>8.714532</td>\n",
       "    </tr>\n",
       "    <tr>\n",
       "      <th>1</th>\n",
       "      <td>2</td>\n",
       "      <td>01 01 2018 00:10</td>\n",
       "      <td>453.769196</td>\n",
       "      <td>5.672167</td>\n",
       "      <td>519.917511</td>\n",
       "      <td>268.641113</td>\n",
       "      <td>Jan</td>\n",
       "      <td>-66.148315</td>\n",
       "      <td>12.722848</td>\n",
       "    </tr>\n",
       "    <tr>\n",
       "      <th>2</th>\n",
       "      <td>3</td>\n",
       "      <td>01 01 2018 00:20</td>\n",
       "      <td>306.376587</td>\n",
       "      <td>5.216037</td>\n",
       "      <td>390.900016</td>\n",
       "      <td>272.564789</td>\n",
       "      <td>Jan</td>\n",
       "      <td>-84.523429</td>\n",
       "      <td>21.622774</td>\n",
       "    </tr>\n",
       "    <tr>\n",
       "      <th>3</th>\n",
       "      <td>4</td>\n",
       "      <td>01 01 2018 00:30</td>\n",
       "      <td>419.645904</td>\n",
       "      <td>5.659674</td>\n",
       "      <td>516.127569</td>\n",
       "      <td>271.258087</td>\n",
       "      <td>Jan</td>\n",
       "      <td>-96.481665</td>\n",
       "      <td>18.693375</td>\n",
       "    </tr>\n",
       "    <tr>\n",
       "      <th>4</th>\n",
       "      <td>5</td>\n",
       "      <td>01 01 2018 00:40</td>\n",
       "      <td>380.650696</td>\n",
       "      <td>5.577941</td>\n",
       "      <td>491.702972</td>\n",
       "      <td>265.674286</td>\n",
       "      <td>Jan</td>\n",
       "      <td>-111.052276</td>\n",
       "      <td>22.585236</td>\n",
       "    </tr>\n",
       "  </tbody>\n",
       "</table>\n",
       "</div>"
      ],
      "text/plain": [
       "   Observation Number         Date/Time  LV ActivePower (kW)  \\\n",
       "0                   1  01 01 2018 00:00           380.047791   \n",
       "1                   2  01 01 2018 00:10           453.769196   \n",
       "2                   3  01 01 2018 00:20           306.376587   \n",
       "3                   4  01 01 2018 00:30           419.645904   \n",
       "4                   5  01 01 2018 00:40           380.650696   \n",
       "\n",
       "   Wind Speed (m/s)  Theoretical_Power_Curve (KWh)  Wind Direction (°) Month  \\\n",
       "0          5.311336                     416.328908          259.994904   Jan   \n",
       "1          5.672167                     519.917511          268.641113   Jan   \n",
       "2          5.216037                     390.900016          272.564789   Jan   \n",
       "3          5.659674                     516.127569          271.258087   Jan   \n",
       "4          5.577941                     491.702972          265.674286   Jan   \n",
       "\n",
       "         Loss  Loss percentage(%)  \n",
       "0  -36.281117            8.714532  \n",
       "1  -66.148315           12.722848  \n",
       "2  -84.523429           21.622774  \n",
       "3  -96.481665           18.693375  \n",
       "4 -111.052276           22.585236  "
      ]
     },
     "execution_count": 58,
     "metadata": {},
     "output_type": "execute_result"
    }
   ],
   "source": [
    "data.head()"
   ]
  },
  {
   "cell_type": "markdown",
   "id": "40a514c6",
   "metadata": {},
   "source": [
    "Both the 'Loss' variable and 'Loss percentage(%)' variable show that the actual power is less than the Theoretical power in most of the cases. "
   ]
  },
  {
   "cell_type": "markdown",
   "id": "b14da4ee",
   "metadata": {},
   "source": [
    "2. "
   ]
  },
  {
   "cell_type": "code",
   "execution_count": 59,
   "id": "b2585aa2",
   "metadata": {},
   "outputs": [
    {
     "data": {
      "text/plain": [
       "Text(0, 0.5, 'Loss')"
      ]
     },
     "execution_count": 59,
     "metadata": {},
     "output_type": "execute_result"
    },
    {
     "data": {
      "image/png": "iVBORw0KGgoAAAANSUhEUgAAAZQAAAEGCAYAAABCa2PoAAAAOXRFWHRTb2Z0d2FyZQBNYXRwbG90bGliIHZlcnNpb24zLjMuNCwgaHR0cHM6Ly9tYXRwbG90bGliLm9yZy8QVMy6AAAACXBIWXMAAAsTAAALEwEAmpwYAAAyWElEQVR4nO3df5QU5Zkv8O8zTQM9Y2TAYFZaRlwlsiHIzMKJKLl7xbOKKxud+CPo4k32bq5u9mTPXjSXu7B6FLJymV1WYbNucjbZZLNZiRmjZIIxWSALifcQIUJmgGAg/kJ08EayMGiYBnp6nvtHVTXV3VXV1d1VXf3j+zmH43T1r2pG6un3fd73eURVQUREVKmWqE+AiIgaAwMKEREFggGFiIgCwYBCRESBYEAhIqJAjIn6BKLy/ve/X6dNmxb1aRAR1ZU9e/b8WlUnO93XtAFl2rRp2L17d9SnQURUV0TkDbf7OOVFRESBYEAhIqJAMKAQEVEgGFCIiCgQDChERBSIpl3lRdXX1z+ItZsP4ehQClPaE1i28Ap0dyWjPi0iCggDClVFX/8gVmzcj1Q6AwAYHEphxcb9AMCgQtQgOOVFVbF286FsMLGk0hms3XwoojMioqAxoFBVHB1KOR4fdDlORPWHU15UFVPaE67Bo+vzWzA0nMaU9gQWzJiM7QePMc9CVIc4QqGqWLbwCojLfSeG01AYo5Undh7B4FAqe3vFxv3o6x+s4pkSUbk4QqGqKafZdCqdwapnDziuDuOqMaLawoBCgbAu7oNDKcREkFFFeyIOEWME4jY68ePEcBonhtMAzo1adr9xHM/sGeSqMaIawikvqpi1JNjKkWTUGIsMpc4FgnJGJ25S6Qye3PUmV40R1RiOUKhiTkuCw2YFrXyDQyn09Q8WHaVwuowoeByhUMXclgRXqm1szPW+mLhPohVL5NtHVFbyf2nvADpXbeECAKIKcIRCZbO+5Qc5nQUALQL80VUd2H7wGE6dLQxWAuCuq6ai98U3kc4UvnsqncHS3gHc1zuA1rExDJ/N5IxC3EZUQ6k08zBEFRB1mTpodHPnzlV2bPTmNS3U1z+I+58awGgd/e8jAJbM68CGnUc8g2CyPYEdy6+r1mkR1RUR2aOqc53u4wiFHBWrvfVXG/fVVTABjIUBG3YeQXtrPLtYwElYU3hEjY4BhRy51d564Dv7sXbzIQynRyM6s8oo4BlMAGNXPxGVjgGFHLl9Sz91NuOY12gkyxZeEfUpENUlrvIiR+2t8ahPIRLtiTgT8kRlYkChHH39g+hctaXotFAjSsRjWHnzzKhPg6huccqrieWv4lowY3JOOZNmIgBum5Pk6ISoAlw23KTyV3GRIcld80SeuGyYCkRRLqUe+Cky6TSy+97etzGUMqYJJ7bGsejKi9jXhZoORygNzGtj4rTlz0V8drVtYmsc/Q/dUHC83JFdvEWw9o7ZDCpU97xGKAwoDaKUfEhMAIeKJZRnYms820nSCsbze7ZV1LaYU2pU7zjl1eCcdrU/sfOI6+MZTPzJ78ECVL6Lnn1bqJExoNQRtyks5kPCZ3WODOq1PvfUXgAMKtRYOOVVJ5zm7hPxGG6bk/QcjVBtm9gax8Mfm8nAQnWDORQH9RZQKp27p9o3/cI2bL3/2qhPg8gTcyh1xj61NcHWl50a28vvnMpZfbd+cSdHLlRXGmaEIiI3Avh7ADEA/6yqPV6PL2eEwqW2RFSr1i/uBADP1tZBtL5u+BGKiMQA/COA6wG8BeBFEdmkqi8F9R4MJkRUy5b2DiAek2wX0/wVhcV6HAWhUYpDfgTAK6r6mqqeBfAtALdEfE5ERFWV3xI7lc5g7eZDANx7HFn3B6FRAkoSwJu222+Zx3KIyL0isltEdh87dqxqJ0dEFBVr75TbHqogO5Q2SkARh2MFySFV/bKqzlXVuZMnT67CaRERRcvqQOrWiTTIDqWNElDeAjDVdvtiAEcjOhciokjEY7nfrRPxWLYD6bKFVyARj7neH4RGCSgvApguIpeKyFgAdwLYFOQbHO5ZFOTLEREFav3iTqy9fTaS7QkIjLpxa26dlU24d3clsebWWa73B6GRlg3fBGA9jGXDX1PV1V6Pr7eNjW64+oyotokAqkZVBFXgZCpd1y0NGn7ZMACo6vcBfD/q86i2wz2LGFSIapj1nf3EcBqJeAzrGnjDasMElGaWPx3HAENUm6xluo0aUBolh0I2h3sWMedDVKOCXKZbaxhQGhgDC1HtCXKZbq1hQGkCh3sWYf5lk6I+DaKmF/Qy3VrDHEqT2HDP1QCYXyGqNmuVVzO0f2ZAaTKHexbh8hXPYaQxVotTFcREkFFFeyKOU2dHcupFCYAl8zrwSPes6E6QagYDShN6ZY2RV+Fohbwk4rGCjW9BlD+nxtUwGxtL1SgbGyvFoEJOYiK466qpHHlQAa+NjUzKN7nDPYtw/rhY8QdSU8mo4pk9g+jrH4z6VKiOMKAQ9q26kcuLm4wAaE/EszWdJrbGCx4TdK8ManwMKJTFoNJY4i3iulxcAZwZGcW6xZ1YMGMyTgynHR/XyJvwKHgMKJSDQaUxtCfiWHvHbGy452qsX9yJmBS2DEqlM1ixcR+e2HnE9XUaeRMeBY8BhQowqNS/k6k0lvYOYH7PNgBGTsRJKj3q+hqNvgmPgseAQo4YVGpfTARi/jefFT4Gh1JY9u29Zb1+0L0yqPExoJArBpXa9ugnZuP1nkUYLbL0Pz1a+taAmAiDCZWMAYU8MajUpomt8ewFP4w8x11XTS3+IKI8DChUFINKbYnHBA9/bGb2tlOv8Er53dDY1z+I+T3bcOny5zC/Zxv3rTQ5ll4hX9gZsjZMbI1ng8n8nm3ZEii3zUnie3vfxlDKeflvKZI+Rzx9/YNYsXE/UukMACNfs2LjfgDgdFmT4giFfONIJVrtiTj6H7oBALBi434MDqWgMC7kT+w8gpOniwcTARw3Mdr5Xdm1dvOhbDCxcDNkc2NAoZJUK6gUrltqbi0AVt5sjEycLuTAud7lbqzVYO+mRlwfY8/NFOO26ZGbIZsXAwqVrBpBpTlLlrr7o3kd2Qt9uRfsjCoU7ntSAOTkZorlR9wWA3AzZPNiQKGycPqrurYfPJb9OawLtn1UaOVH7NNqKzbuzwkqTosBuBmyuTGgUNnYVrh6rFFJX/8ghs+6T1lVQoFs0PCTH+nuSmLNrbOQbE9ki0xyM2RzYz8UqghXflWH1T7WvqrKr7axMZw66/85yfYEjpojk3wC4HWOTpsa+6FQaKKY+kq2J3wvba1H+dNI8Zjg1JkRLO0dKDmYGM9vKWmfirUU2QnzI+SFAYUqFmZQyV/tZc3RL1t4BeItjbkW7LY5yew00sTWOKCoaH/JyVQ6Z2pqYmvc8+/Oau1bbn6Emx2bFzc2UiDuntfhWQa9HNMvbMNnF0zHyk0HshfU0yMZLO0dQEwEGVUIcleEJeItGB+Pufb3qAfbDx7DjuXXATA2L1b6Waa0J9DdlczmNvr6B3P+Tu2soGE9ttT+8dzs2NwYUCgQj3TPwq7X/hMvv3MqsNe0XuvMyLkS61bKz1r6qjAugmtuNUqFrN18CIN1vg/Cviy40j0d+aOK/As+gGxQTuYFDXsQ8ssrmc+A0vgYUCgwW++/NvAk/YqN+zx7dgDnGkUBUlaOodbY8xRT2hOuAdIp2R6PCdrGjsHJVNpxVOF0wbeCiTUqqgQ3OzY3BhQKVNA1v4oFk1IfVw+mXXAuoCxbeAWWfXtvQQn6eEyw+uPnRmV+p6XCvuC7BUAm85sDk/IUuPWLO6M+hbr2k1ePZxPZ3V1JnDe+8HtfOqNY9ewBdHclsWP5dXi9ZxF2LL+u6LSS24V9QsK7vpdf3OzY3BhQKHDdXUmMqbEFWAJjI2aNnZYjBfC5p/Zmg8qQS1L+xHC65BVUbqvjTp0dCWQ1Fjc7NjdubKTQVHvTY/6Kr/xkMwDc3zuAepkcsxYbrHr2gOtKr3JyH12f3+L4ekHlUZxYu+9LWTFGtYkbGykS1dz0mIjHsGReR843Y+v20aEU1m4+hBUb99VNMAGMxQarnj2A35x2L7VSau6jr3/QNTiFlTj3UxeMGgOT8hSq/FFDkKy9KDExVndtP3gs+83XaT9EPSq2B6WUZLf1dxLEa1mvZy3Ttn4X+UuPAS4lbiYcoVCowqr7lIjHcNdVU5GIx7J7UgaHUljaO4DOVVuwctOBullC3J6IZ3uVlKLUZLdbH5VyXss+6gCQ8zu4r3cAD/adC1xuwbxegzy54wiFQhdG++Df7ZiA7QePOV4gg2iDW00nU2msW9zpuuHQzW1zStt46DWlVSxxnp8DGT474hqcFMATO4/ge3vfxsqbZ2ZHL/nKCaJU2zhCoaoYHwv24rHj1eMN8w1XYYwe7DW8ku2JolOFz+wZLCkP4TallTRLs7hxyoH4KQczlEpjxcb9rg29vBp95b8/a4PVh0gCiojcISIHRGRURObm3bdCRF4RkUMistB2fI6I7Dfv+4KI8fVGRMaJSK95fJeITKvyxyEfDq6+KepTqGmDQyk8s2cQyxZekd1TUqyicqn928vdI+I1VVZMKp1xHYn4qRjNhH59iWqE8nMAtwJ43n5QRD4E4E4AMwHcCOCLImL9C/gSgHsBTDf/3Gge/zSAE6p6OYB1AP4m9LOnstw9r6Oq7zexNW5U660T+QHCKQDkK2VlVrl7RCpd/ZVRLXuzo59GX1Q7IsmhqOovAEAKv7ncAuBbqnoGwOsi8gqAj4jIYQDnq+oL5vO+AaAbwA/M56w0n/80gMdFRLRZN9jUsEe6ZwVekdhNIh7DoisvwvaDx3BiOJ2dx29PxCFSfPVUmETOFbnMZ7942yv+uk3vlboyq5yCj27lVNoTcbSNG1N06tFa+VXOPhTWBqsvtZaUTwLYabv9lnksbf6cf9x6zpsAoKojInISwAUAfh362VLJwkjQx0Rw11VTsf3gsewFa8GMyXhmz2D22631LXnlzTPR3ZXEg337qxbc8qnCNVGdHyCsAOBUJTjokiZumw+dOkXa/y6t5zptwLSXwy9niTBrg9WX0AKKiPwQwG853PWAqn7X7WkOx9TjuNdznM7pXhjTZujoqO70C50z/cK2QMvcZ1TxzJ7BnOmb+T3bPPc+PNJtFFbcsPNIaPtkvDgFE68AUUp/knJ2pfvpY+L1mvbAF+SOeLdgxtpgtSnS0isi8iMA/0tVd5u3VwCAqq4xb2+GMZ11GMB2VZ1hHr8LwLWq+qfWY1T1BREZA+D/AZhcbMqLpVeiFUZZlpgIRlU9S77n90T3ajZVLmu5bymbOie2xvHwx2ZWvNHPbSRTLFcyv2eb499ZmOVY/GLZltriVXql1qa8NgH4pog8BmAKjOT7T1U1IyLvicg8ALsAfBLAP9ie8ykALwC4HcA25k9qXxgdHu2b69wu5vapEqeLbxBaRPDqmpvQ1z/oWHreSevYMTkXyfyL6IIZk3Om9Jwuqn39g/jcU3sLRj+pdAYrNx3wvCjXcq6i3Okyqr6olg1/XETeAnA1gOfMUQZU9QCApwC8BODfAXxWVa1/7X8G4J8BvALgVRgJeQD4KoALzAT+/QCWV+2DUNmsKaewOM2T5k+V+FkO256Il1yO37qgd3clsfaO2b6Wx9ov3E5LZZ/YecRz6az1HLe9HUOptOvz+/oH0eKytJe5CioFqw1TpMKuSGwVh7S+lQPncgFe/+fbp3r6+gextHfA93u2CPDamkU5o4z21jh+c3rEdbRifz+36ad8iXgLJrWNw9GhFFpckvxerNVXbqM0a6ps9xvH8eSuN7N10+66amroXwiodnlNeTGgUKSWfOUF7Hj1eCivnT//X+oUlwDZMiOlLDNOxFuw5tYrfb9XIh7DbXOS2Smtav6LdFttBhj9Yy6dfJ7j1OTd8zocgwrzHY2P5eupZm245+rQXrt1bO7/3qXu+C6lzIjd6fSo53vFY2Lsh4ER9G6bk8QzewazU1LVIvAuf7Lj1eOuea4nd71ZcIy72okBhSI3/cK2UF735XdO5VS9rVaCeYo5zeYmnVG0jRuD13sWYcGMyXhi55GqV0autK2AUyCqpV3trP8VDQYUitzW+68N7bXt36SrlWD2M9IYHEpVdXNlvEUwsTXuu/BkMU71uWplpRhHStGptWXD1KTOHxfDu2eC/5aeUcX8nm3ZxHi8RXwt4w2bwNhUWQ0xEay9Y3ZOLsNv4t9tJHPXVVOzP1t5E7e/1WoEcnvuxmmBAht6VQdHKFQT9q26sfiDymR9Uz0xnAYE2fxFlBThdbLMN6pacCH1U3gSAJbM68Dd8zqyI5KYSE5CPr/RVr5q7GrPH5G45YVqYU9No2NAoZox/7JJob9HOqMQMXbL+9kf0gicRghOlYfnXzapIHDMvWQSth88hlGzve+jn5ids7rLa/GBVzXjIHMcfhdbcE9N+DjlRTVjwz1Xh74vBTBGKtV4n1pQrD6Yn8ZaXvW93L71C+BassXP65bCz8iD9b+qgyMUqinV7pnSaNoT8ZL7nbjxs2rL7Vu/12gg6NVgbu8VEwnk74H84wiFako1e6bUq0Q85jrFM5RKY+DhGwJ5Hz+rtsqpBhz0ajC3c2AQqT5fIxQRaRORFvPnD4rIzSJSP63wqK6UWjur2XjlC9za7ZbDz+ijnC6Q5YxqvJTbiZKC53eE8jyA/yIiEwH8B4DdABYDWBLWiVHz6u5KllQ7q5qsZbQtAtTA6uMCpdbzcmItwXWq2uw0+ii1GnAYPU5Ykbg2+M2hiKoOw+gD/w+q+nEAHwrvtIiqJ+bzS32yPYF1iztxuGcRLprgPW8f5EjB7X2cVLpyLX8ZsL1qc1Df/DmiaFx+RygiIlfDGJF8usTnEpUsjFbBblpaBI/ebmz883pP+6olt/n+jCrWL+4MdYRlFZO0tzi2jle6kskpYa4IvtEWRxSNye8IZSmAFQC+o6oHROS3AWwP7ayIUJ19KYCxN2XVswcAuH/Dzz/uNd+/7Om9wZ1cnpgI1tw6C490zwrlW36tlE+h+uRrlKGqPwbwYwAwk/O/VtW/CPPEiKq1LwUw9qZY5Uj85A2soo5O0hn3PMb8yybhZ0dOll0M0r7rPYxv+W7tk7kpkPzwu8rrmyJyvoi0weimeEhEloV7akTVG6UA8J036OsfRO+LheXb/Tj8nymk0hkUS7G43R32hd2pJAs3BZJffqe8PqSq7wLoBvB9AB0A/ltYJ0VkCbNfihd73iB/FLB28yHPUYgbgS1oaW4F4PZEPKca8JJ5HZFc2Jkwp0r4TazHzX0n3QAeV9W0iNTgoklqRONjgtNlXMArFXQ+If8TpEcVrWPHoP8h542Icy+ZFEn3QybMqVx+A8o/ATgMYC+A50XkEgDvhnVSRHYHV98USe2tFhH09Q8WTHeV07/djVcJeV7Yqd74Tcp/AcAXbIfeEJEF4ZwSUaEoRikZVazYuB+73ziO7QeP+eofUo78oEVUr/wm5SeIyGMistv88yiAcPq2Ejk4uPqmSN43lc7giZ1HQgsmACJpkUsUBr9J+a8BeA/AJ8w/7wL4l7BOiqiZhBmsiKrJb0C5TFUfVtXXzD+rAPx2mCdGlK+aS4irSQD2O6eG4DegpETko9YNEZkPgF+rqKqiWkJcqXFjWtCecC/Oraivaa8guy1SY/G7yuszAL4hIhPM2ycAfCqcUyJyN/+ySdjx6vGoTyMr1iJ437gxGEqlXR+TiMfQVuQx9VLaJOhui9RYfI1QVHWvqs4GcCWAK1W1C0BwleKIfIp6lCJAzgbER++YjYGHb3Dd2Q4YTa+KBYx6KW0SdLdFaiwlVQw2d8tb7gewPtCzIfIhqo2OXl0A3WpgAUYQmpCIu45QrB3083u2VW3zYrlYPJK8VNJTPtyGD0QuolpCfNsc542Gff2DOHVmxPV5CkAEBaVU7PcDRlBZ2juArs9vqZm8RH6+ZIJLLqheRlgUrkp6mrD0CjWVZ/YMYu4lkwp2zud3H3QyNJzGusWd2VIqXiOWE8Np17yE1U2xGuVYnPIl8Zgg3iJI29pVBl1jrJqfkYLlOUIRkfdE5F2HP+8BmFKlcyQqEMUSYqdcgVNOwcmU9gS6u5LYsfw6vN6zCG3jvL/LOb2XvZui4lxCPKzRjNNnS2cU540fE1rxyGp/RgqW5//Vqvq+ap0IUSmq2SvFLj9X4Cd34PQN3s/z8h/jlhD/3FN7cV/vANpb41AFTqbSgXyzdzvHoeG0a0HLSnkl/TlKqX2V5FCIIjUmgixefq7ALXfQYju3cWMK/5n5yTnkP8ar7bDCmCobSqUD+2bvdo5h5kuY9K9vDChUt15Zs6jq73ni1Jmci7RTQ6p4TBCzddAaSqULku1Oz7NzGtWUeiGvdDlvFM22oghiFBwGFKISDKdHsezbe7OBwakhVdvYMTlJa4uVbLeqC9ufN7E1jvZE3DMvUSwIOcn/Zl/KLvcomm2xY2R9Ew2or0O9mTt3ru7evTvq06AARJFLsbo55uvrH8TS3oGynuuHfQWUn74s9vdyWpHmtbcmKlzlVdtEZI+qznW6r5Jlw0Q1QVD9NexOc/rWBbuc5/plb7pVbMly/jf7ekl4s7FY/eKUF9W9dYs7q/6eTnP6pSwhDoI1JeVWePLiieNzLsxMeFPYIgkoIrJWRA6KyD4R+Y6ItNvuWyEir4jIIRFZaDs+R0T2m/d9QcTIeorIOBHpNY/vEpFp1f9EFKVqf5ttATB8dqQgD1HuEmI/3HIf3V1J1z0tL79zCg/2nRsxMeFNYYtqhLIVwIdV9UoAvwSwAgBE5EMA7gQwE8CNAL4oIlaG7ksA7gUw3fxzo3n80wBOqOrlANYB+JtqfQiqHdMvrE4D0US8BbGY4MTwueW5S3sH0LlqC9pbnUcKMZGKktpOm/3u6x3ANDO4eDXoenLXm9mfF8yY7PgYt+NEpYokh6KqW2w3dwK43fz5FgDfUtUzAF4XkVcAfEREDgM4X1VfAAAR+QaAbgA/MJ+z0nz+0wAeFxHRZl1t0KS23n9t6Mn5ZHsCw2dHcGK4sGTKUCqNeIsgHhOkM7llSSpNejtNpdnrf3mxJ+23Hzzm+Bi340SlqoUcyp/ACAwAkATwpu2+t8xjSfPn/OM5z1HVEQAnAVwQ4vlSkxocSjkGE0t6VNE2NviyJJXkOOz7YZhDobCFNkIRkR8C+C2Hux5Q1e+aj3kAwAiADdbTHB6vHse9nuN0TvfCmDZDR0eH67lTfbp7Xgee2Hkk0nM4mUpj4OFzZUms3IffJbBOS2a9SuMXc9dVU7M/u70OcygUlNBGKKr6+6r6YYc/VjD5FIA/BLDENj31FoCptpe5GMBR8/jFDsdzniMiYwBMAODY0k9Vv6yqc1V17uTJnDduNI90z4r6FHIuzg/27cd9vQO+Cx26FUZcMGNyyRsaASPA2v9OuGmQwhbVKq8bAfwlgJtVddh21yYAd5orty6FkXz/qaq+DeA9EZlnru76JIDv2p5jtSO+HcA25k+a193zoht52i/Off2D2LDzSMFQ2ascits+ke0Hj2V3rPshANYv7iwIsFHsfKfmEtXGxscBjAOw1Vz9u1NVP6OqB0TkKQAvwZgK+6yqWv/C/gzA1wEkYORcrLzLVwH8m5nAPw5jlRg1qUe6Z1V92kuAgumstZsPuW62LDWXcXQolbPZr3PVFs/+9Ar3pdTcNEhhimqV1+Ue960GsNrh+G4AH3Y4fhrAHYGeIJFPbmVUvBLdXvtB/OQ4TnoEE+uc3LCsCYWpFlZ5EQWqWtNeXvkHt6AhgOtz/OY4vJLoXufE5lUUNgYUajjVSM5PbI175h+cgoMAWDKvA91dSced735zHG5Vh4udk1ctL6IgsDgkNaQxAoyEuDSjdewYz6kiey4lf3rJqVe7vYd8sSkor9f2wn0oFDYGFGpIr6xZFOrOeT8XYbfgEETV33KS69yHQmHjlBdRGSq5CEc1UuA+FAobRyjUsKZf2IaX3zkVymsvmDG5YAc84G8aym2k4FZcMijlTpUR+cWOjdTQwpj2mn5hG946cTpn2ireIoDAV2HIvv5BLHt6b85jrddYe8fshrjAc3ly4/Lq2MgpL2po42NOpd7KN/3CNgyfHS3IgaRHtSBAuK2g6u5Kom1s4eRAelQrXnFVrGd8KT3lKzkHLk9uTgwo1NAOrr4p0Nd7+Z1TJRVqdMuLuG1OdGst7CcIFLuQu/VVsTfh8qPY+XB5cvNiQCEqUSljnlK7JOYfdwoCS3sH0PX5LSVfyN36qmzYecT36MHP6IPLk5sXAwo1vKC7OSpQsFrKaq5l57WCyu+KK7c+9SeG0yVfyN3uV/N9/PAz+pjg0uPe7Tg1DgYUanhb77828NccH29BeyKe3dG+9o7ZWHv7bN+VfP3uivf6Vp9/IS826vFa6ux39OA23Wc/Li5DOLfj1Di4bJiagsCl61qZTgynEY8JJiTiODqUwtrNh7Bs4RWOhSLd+NmcWKy5lj0QLFt4Rc4OfCB31LNs4RW4r3fA8e/B776amEhOW2H7ccuQS1dLt+PUODhCoabwes+iwF8znVEMpdLZXMKyb+8NfCWTW90uiz0QFBv1dHclsWReR0EOqJTNjU7BJP94sZFSNVaaUTQ4QiEKSHpUsXLTgUD3W1ivtWLjPqTSowX3L5gxueDxXu//SPcszL1kUtl7RJIuIyZ7yXyvkVKxOmZU3xhQqGlUo+e8vfFVUJv7uruSWLv5kOOFfPvBY2W9XrkX72LTatbrA8478uf3bKu4jhnVLgYUahrV6uZoTeEE9U28r3/QNY8S5lJcr4BYLFC6BS0uKW5sDCjUVOZfNgk7Xj0e6nus2Lgf4+MtgXwTt6aI3IRVKbjSEvtuWPG4sTEpT01lwz1Xh/4eqXQGJ1xWNJX6TdxtHwoQbqVgt/0mn3uqsoUHrHjc2DhCoaYTZhXiYuzfxP3kWLwCkNc+l0p4TbFlVCtKorPicWNjQKGms/X+a0NtvgUAiXgLAHFNXvtd7eQ2RZRsT4QWTJZ9e6/nYypNolcyZUa1jQGFmlLYK75Op0ehOLcRMOmQ1PaTY/Gzqsqv/BHRghmTsf3gsZyRwspNB5AeLb4FdHAohfk92zi6oBzMoVBTeqR7Vqivb12SM6rZAGC/8Ppd7eS3REsxTkUdn9h5pKDI45BLFWQnLEtP+RhQiEKWSmewctOBnGOlVCHu7kpix/LrsG5xJwDgvt6BkneYeyX37edZKpalJzsGFKIqGEqlMc1WaqTU1U6VNq0Kc58H95CQhQGFmtbhEOp7FWMFgt1vHMf4+Ll/fu2JuOdUVqVNq/zu82hPxAvK8BfTIsK6XASAAYWo6lLpDDbsPJKzV+XMSGGdLrtKd5gXKzIJGCOklTfPxNrbZ/t6TUtGla1+CQADCjW5D7xvbFnPq7S1R/46qmKjjVI7P+ZzSu7fPa/DMdnf3ZXMKfZoJwAmthp9YGIODU6YU2luXDZMTW3XA9eXtSdFEXyPFa/RRhDLh4vt/7DKyh8dSmGCOfWVzuR+QoWxJHrd4k7c1ztQ8uegxsaAQlQme1BpT8QhYjTesvaeWP/1G3i8Rhth7zDP32g5lEoj3iJoESB/W4q1ao11uSgfAwo1vUo2OSqM6SKvTo3WhkKvzosCYNoFiewIwSlg5I8w7CMKPwHGvrFxghkAh4bTmNKewKkzIwVJf68NjkOpNP5w9kV4Zs9gwfOGz46gr3+QGx6bkKhLB7ZGN3fuXN29e3fUp0E1otJSLH5WjF26/LmSpsgS8Zjryq/8EYX1+NvmJAt2v3d3JR0fX6mkbXd9/oZIr3MPUlA9Z8g/EdmjqnOd7mNSnghW7a1wlToV5JXgdltGvMFh97t10S0nmLQn4q73HR1KobsribZxhRMd1UjOV7o3h4LHgEIEYM2tV1b0fD/7MPws3c1X6nJhp9Vjq5494Dnd5kYArLx5Jia2OgcVK0BG0fwLqHxvDgWPAYUIlfczt74hL+0dwIN9zg2x7Et3/ap0uTAA194sxSiMc374YzNdd/X39Q+6LqEOOznP7o+1hwGFyHT3vI5AXueJnUdcRypWXa71izt9bTR0WxbsNNqpdG9MPivweRWoXLv5kGNeSMxzDFMQwZaCxVVeRKYge87by9D77c3uVE7ebeTk9nynVVflyA9mpfaIt0Y3YQqytD8FgwGFyGZ8THA6U/nKx8GhFDpXbcFQKp2zDyWo3uxuz597yaScIHPqzIhjSfpie2P8rtDyagAWNnZ/rD1cNkyUJ+xujoBRvqR17JjQL4RWB8b8PSXxmKBt7BjHYFNsX43dg337HUd1d8/rCL3nDEWj5pYNi8hfi8g+ERkQkS0iMsV23woReUVEDonIQtvxOSKy37zvCyJGISERGScivebxXSIyLYKPRFSSE8Ppqix37e5K4rzxhRMR6YwinRktyLuUOmW0/eCxko5TY4sqKb9WVa9U1U4A3wPwEACIyIcA3AlgJoAbAXxRRKzM45cA3AtguvnnRvP4pwGcUNXLAawD8DfV+hDUmKIoa1/qcldrl7yf5cpDLqu8Tp3N5Ex7CYDb5pQ2DceVVmQXSQ5FVd+13WzDuencWwB8S1XPAHhdRF4B8BEROQzgfFV9AQBE5BsAugH8wHzOSvP5TwN4XEREm3Uuj+qW34tw/q73/LxM/iKA9ta4r6XDitJHFqznRXaRLRsWkdUi8iaAJTBHKACSAN60Pewt81jS/Dn/eM5zVHUEwEkAF7i8570isltEdh87xiE5uVtvttsNijW1lGxPuO4+93sR9trQ57R7/DenR3w3zSp1ZFFq50lqbKEFFBH5oYj83OHPLQCgqg+o6lQAGwD8ufU0h5dSj+Nezyk8qPplVZ2rqnMnT55c2geiptLdlcT4EjsXAoDIuZ4h7Yl4dt/GusWdONyzCDuWX4eVN7tvFLRzm9bymmZyCjbpUUXb2DE5+0jcSs3kB7ViU2tee1So+YQ25aWqv+/zod8E8ByAh2GMPKba7rsYwFHz+MUOx2F7zlsiMgbABADHyz9zIsPB1TeVvOJLtXgOxs9yV69pLa9pJrdgczKVxsDDN2Rfe9nTewseE2+R7O53p+rI+VNr9s/DAEJARDkUEZmuqi+bN28GcND8eROAb4rIYwCmwEi+/1RVMyLynojMA7ALwCcB/IPtOZ8C8AKA2wFsY/6Eap3XRbivfxCfe2ovMnn/G1vTWl4b+tzK5Ft936e0JzB8dqSgcRZgjGRWbjqAUy7328+BAYScRLWxsUdErgAwCuANAJ8BAFU9ICJPAXgJwAiAz6qq9a/mzwB8HUACRjL+B+bxrwL4NzOBfxzGKjGiQKxf3ImlLp0JnTgVUiylxLo1MskPJharwi/gPsJxKlNvvV6xIpFO+1KczoHICTc2EhXht49JPCZYe/tsz6kr4FyvEKAwKKx69oDniiw/mw7tAazF7BoZJKsPCneoNyevjY0MKEQ++MmlrF/cWXBRnd+zzXFUMLE1jtPp0ZxAE28Rzy6J5TStKrWpVzECYMm8joKaYU7nxuZXjckroLCWF5EPftoEL+0dKLhguk0POY1CvIJJTKRoMPHTargSVjDZfvCY67Jle0FMr70y1JgYUIh88FuJ+MG+/Tk1rNxWZJUqo4qlvQNY9ewBPPyxmQDOTZdNSMSRzozi1Nng2vvmS9pGGJe6jNbswdNrrwwDSuNiPxQin/z0S8kPOm4b/8ptOXxiOI2lvQNY2juQ3bw4lEqHFkwS8RjWL+7EjuXXZQOBnz4kLMnSnBhQiHzyWz3Xnm9x2vh325wkRjymt6JWbJOin93xbH7VnJiUJypBX/+gr2XE42OCg6tvcrzPLVFfC/yWri+WcPda3cYpr/rGpDxRQLq7kniobz/ePeM9xXQ6owX5FEutTvuUUoOr2O54Nr9qThyhEJXBb0mWpMOF1G2E0jY2huG8kvLVMrE1joc/NpMXfCqq5hpsEdU7vz1TnJpnueUgVn98Fl7vWYT1izsRE/+FKRPxFkxsjRcUpWxPxAuqDCfiMdw9ryMnT7J+cSf6H7qBwYQqxikvojLNv2wSdrxavA5p/nLZYtNBbiVUBMA1l03C4f9M+Z5G4uZCqiYGFKIybbjnat870fOnuMrNQVjH/GIlYKom5lCIKuQ3nzL9wjZsvf/ast+HK6eoFjCHQhQiv/mUl985hesf+1HZ7+O1+5yoFjCgEAVg/mWTfD3u5XdO4cqH/72s9+Duc6p1DChEAdhwz9X4wPvG+nrsu2cymLb8OSz5ygslvQd3n1OtY0AhCsiuB67H+eNixR9o2vHqcVy1eqvvx/speUIUJQYUogDtW3VjSUHlV++dxbTlz/nKrTjVBWNCnmoJV3kRheD6x36El985VfLzEvEWrLn1SgYJqlns2OiAAYXC9mDffl89VLzMv2wSNtxzta/HchMjVQMDigMGFKqWGQ98H6cz9fnvrEUAt0r71mgKAFZuOoCh1LkulFZ3R6fimA/27ceGnUeyG0LHjWlBIh7DyVSagbAOMKA4YEChaip3CqweeAWdu/OCip9RGzdr1jZubCSK2Nb7r8X6xZ3wX/Kxfnj1Cnty15uet51ws2b9YkAhqpLuriRe71nkexNkI8jkzYDk33bDzZr1icUhiarMSrL39Q/iL5/ZhzMjoxGfUXjyy/DHRHwFFW7WrE8coRBFpLsriUOP/AHWL+5EeyIe9emUrcVjHu+uq6Z63nbCzZr1iyMUoojll5hf8pUXfPVZqYagV3lZt7nKqzFxlRcREfnGVV5ERBQ6BhQiIgoEAwoREQWCAYWIiALBgEJERIFo2lVeInIMwBtlPv39AH4d4OnUg2b7zPy8ja/ZPnNQn/cSVZ3sdEfTBpRKiMhut2VzjarZPjM/b+Nrts9cjc/LKS8iIgoEAwoREQWCAaU8X476BCLQbJ+Zn7fxNdtnDv3zModCRESB4AiFiIgCwYBCRESBYEApkYjcKCKHROQVEVke9fmETUQOi8h+ERkQkYYszywiXxORd0Tk57Zjk0Rkq4i8bP53YpTnGCSXz7tSRAbN3/OAiNwU5TkGSUSmish2EfmFiBwQkf9pHm/k37HbZw7198wcSglEJAbglwCuB/AWgBcB3KWqL0V6YiESkcMA5qpqw24AE5HfA/AbAN9Q1Q+bx/4WwHFV7TG/OExU1b+M8jyD4vJ5VwL4jar+XZTnFgYRuQjARar6MxF5H4A9ALoB/DEa93fs9pk/gRB/zxyhlOYjAF5R1ddU9SyAbwG4JeJzogqp6vMA8jta3QLgX82f/xXGP8aG4PJ5G5aqvq2qPzN/fg/ALwAk0di/Y7fPHCoGlNIkAbxpu/0WqvBLipgC2CIie0Tk3qhPpoo+oKpvA8Y/TgAXRnw+1fDnIrLPnBJrmOkfOxGZBqALwC40ye847zMDIf6eGVBK49Q9u9HnDOer6u8C+AMAnzWnS6jxfAnAZQA6AbwN4NFIzyYEInIegGcALFXVd6M+n2pw+Myh/p4ZUErzFoCpttsXAzga0blUhaoeNf/7DoDvwJj2awa/MuehrfnodyI+n1Cp6q9UNaOqowC+ggb7PYtIHMaFdYOqbjQPN/Tv2Okzh/17ZkApzYsApovIpSIyFsCdADZFfE6hEZE2M6EHEWkDcAOAn3s/q2FsAvAp8+dPAfhuhOcSOuvCavo4Guj3LCIC4KsAfqGqj9nuatjfsdtnDvv3zFVeJTKX2a0HEAPwNVVdHe0ZhUdEfhvGqAQAxgD4ZiN+XhF5EsC1MMp7/wrAwwD6ADwFoAPAEQB3qGpDJLJdPu+1MKZBFMBhAH9q5RfqnYh8FMD/BbAfwKh5+K9g5BQa9Xfs9pnvQoi/ZwYUIiIKBKe8iIgoEAwoREQUCAYUIiIKBAMKEREFggGFiIgCwYBCTUFE1onIUtvtzSLyz7bbj4rI/SJyc6lVpEXk6yJye4CnWzIR+WMRedzlvm4ReaiM11whIktc7pslIl8v9TWpsTGgULP4CYBrAEBEWmDswZhpu/8aADtUdZOq9kRwfmH63wC+WMbzbgCwxekOVd0P4GIR6ajkxKixMKBQs9gBM6DACCQ/B/CeiEwUkXEAfgdAv/2bvjny+IKI/EREXrNGIWJ4XEReEpHn4FJUUET+wnzMPhH5lnlspYj8m4hsM/tw3GN7/DIRedF8/Crb8btF5Kdm/4p/MtsoQET+u4j8UkR+DGC+yzl8EMAZq/2A+Zm+ZPbKeE1E/qtZJPAX9hGHiJwPYKyqHhORO0Tk5yKyV0Set738szCqRRABMHY/EzU8VT0qIiPmN+prALwAo1L01QBOAtinqmeNihU5LgLwUQAzYJTqeBpGyYorAMwC8AEALwH4msPbLgdwqaqeEZF22/ErAcwD0AYjiD0H4MMApsOorSQANpmFOI8BWAyjSGdaRL4IYImIbAWwCsAc8/y3A+h3OIf5AH6Wd2wigOsA3AwjKMwH8D8AvCginao6AOD3AfyH+fiHACxU1cG8z7Hb/Ix/6/C+1IQYUKiZWKOUawA8BiOgXAPjgvwTl+f0mYX0XhKRD5jHfg/Ak6qaAXBURLa5PHcfgA0i0gejlIvlu6qaApASke0wgshHYUwxWUHhPBgB5koYQeNFM9glYBQxvArAj1T1GACISC+ADzqcw0UwgpLds6qqIrIfwK/M6SuIyAEA0wAMALgRwL+Yj98B4Osi8hSAjbbXeQfAFJfPTk2IU17UTKw8yiwYU147YYxQroFx0XRyxvazffjip2bRIgD/CCMg7BER6wtc/nPVfO01qtpp/rlcVb9qHv9X2/ErVHVlCeeQAjA+75j1mUaR+/lGce5L5kcA/BQAVPUzAB6EUWl7QEQuMB8z3nx9IgAMKNRcdgD4QxhtXzNmIcB2GEHlhRJe53kAd4pIzKzeuiD/AWbif6qqboeRFG+HMeoAgFtEZLx5Yb4WRhXrzQD+xOxfARFJisiFMKadbjd/tvqgXwKjsOG1InKBWab8Dpdz/QWAy0v4bBCRmQAOmiMwiMhlqrpLVR8C8Guca+HwQTRQVWKqHKe8qJnsh7G665t5x86zktY+fQdGDmI/gF8C+LHDY2IAnhCRCTBGGetUdcictvopgOdgVLn9a7PnzFER+R0AL5iP+Q2Au1X1JRF5EEbXzBYAaQCfVdWdYvSBfwFGo6Sfme+Z73kAj4qIqP9KsH8A4N9tt9eKyHTzc/wHgL3m8QXm5yACwGrDRFVlBoHfqOrfVfE9/x5G3uSHPh+/FcAnvcqamyvjfgzgo6o6EsyZUr3jlBdR4/s/AFr9PlhVr/fRI6MDwHIGE7LjCIWIiALBEQoREQWCAYWIiALBgEJERIFgQCEiokAwoBARUSD+PyCrjbmiYHEUAAAAAElFTkSuQmCC\n",
      "text/plain": [
       "<Figure size 432x288 with 1 Axes>"
      ]
     },
     "metadata": {
      "needs_background": "light"
     },
     "output_type": "display_data"
    }
   ],
   "source": [
    "\n",
    "# scatterplot of wind speed versus loss \n",
    "\n",
    "plt.scatter(data.iloc[:,3],data.iloc[:,7])\n",
    "plt.xlabel('Wind speed (m/s)')\n",
    "plt.ylabel('Loss') "
   ]
  },
  {
   "cell_type": "markdown",
   "id": "1ef54d07",
   "metadata": {},
   "source": [
    "Looking at the scatterplot above, it seems like the increasing wind speed is increasing the loss for the most part. But in regions of roughly 3 - 15 m/s, there is also positive gain where actual power is higher than theoretical power. So, overall it doesn't seem like wind speed affects the loss that much. "
   ]
  },
  {
   "cell_type": "code",
   "execution_count": 60,
   "id": "ff1f2123",
   "metadata": {},
   "outputs": [
    {
     "data": {
      "text/plain": [
       "Text(0, 0.5, 'Loss percentage(%)')"
      ]
     },
     "execution_count": 60,
     "metadata": {},
     "output_type": "execute_result"
    },
    {
     "data": {
      "image/png": "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\n",
      "text/plain": [
       "<Figure size 432x288 with 1 Axes>"
      ]
     },
     "metadata": {
      "needs_background": "light"
     },
     "output_type": "display_data"
    }
   ],
   "source": [
    "# scatterplot of wind speed versus loss percentage\n",
    "\n",
    "plt.scatter(data.iloc[:,3],data.iloc[:,8])\n",
    "plt.xlabel('Wind speed (m/s)')\n",
    "plt.ylabel('Loss percentage(%)') "
   ]
  },
  {
   "cell_type": "markdown",
   "id": "61157d10",
   "metadata": {},
   "source": [
    "3. Looking at these scatterplots above, it is clear that wind speed doesn't contribute much to the loss. So, due to the limited variables given to us, it is quite difficult to say which variable affects the loss the most. So, further investigation is required in my opinion. "
   ]
  },
  {
   "cell_type": "markdown",
   "id": "f6c16070",
   "metadata": {},
   "source": [
    "Part IV - Final Write Up Summary"
   ]
  },
  {
   "cell_type": "markdown",
   "id": "1a3d03ab",
   "metadata": {},
   "source": [
    "On doing the data analysis, we found out that the actual power generated by the Wind Turbines depend heavily on the wind speed(m/s). We also found out that the wind direction has very little to do with the power generation capability. Additionally, We found out that months like March, November, and August have the highest wind speed recorded, which in turn meant the highest power generated by the turbines. \n",
    "We also found out that the Theoretical power could be bigger or even less than the actual power generated. Statistics showed that lower wind speed (between 3 to 15 m/s) gave more actual power than theoretical power in a few cases. But for the most part, actual power was always less than the theoretical power. "
   ]
  }
 ],
 "metadata": {
  "kernelspec": {
   "display_name": "Python 3",
   "language": "python",
   "name": "python3"
  },
  "language_info": {
   "codemirror_mode": {
    "name": "ipython",
    "version": 3
   },
   "file_extension": ".py",
   "mimetype": "text/x-python",
   "name": "python",
   "nbconvert_exporter": "python",
   "pygments_lexer": "ipython3",
   "version": "3.8.8"
  }
 },
 "nbformat": 4,
 "nbformat_minor": 5
}
